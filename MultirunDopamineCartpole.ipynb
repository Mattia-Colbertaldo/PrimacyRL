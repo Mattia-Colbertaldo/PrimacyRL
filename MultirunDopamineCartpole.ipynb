{
  "nbformat": 4,
  "nbformat_minor": 0,
  "metadata": {
    "colab": {
      "provenance": [],
      "gpuType": "T4",
      "authorship_tag": "ABX9TyMdnxqB94g5r6Q4FvfTj2vw",
      "include_colab_link": true
    },
    "kernelspec": {
      "name": "python3",
      "display_name": "Python 3"
    },
    "language_info": {
      "name": "python"
    },
    "accelerator": "GPU"
  },
  "cells": [
    {
      "cell_type": "markdown",
      "metadata": {
        "id": "view-in-github",
        "colab_type": "text"
      },
      "source": [
        "<a href=\"https://colab.research.google.com/github/Mattia-Colbertaldo/PrimacyRL/blob/main/MultirunDopamineCartpole.ipynb\" target=\"_parent\"><img src=\"https://colab.research.google.com/assets/colab-badge.svg\" alt=\"Open In Colab\"/></a>"
      ]
    },
    {
      "cell_type": "markdown",
      "source": [
        "# Reproducibility Notebook for PrimacyRL\n",
        "> Multiple runs for trend analysis.  \n",
        "> In contrast to the SingleAgentDopamineCartpole notebook the Agent is now trained n times\n",
        "---\n",
        "_Authored by Patrik Rác, Méline Trochon, Valentina Moretti, and Mattia Colbertaldo_\n",
        "\n",
        "---\n",
        "\n",
        "The notebook installs the modified _dopamine_ library and trains a simple *DQNAgent* on Cartpole (environment provided by Gym). It"
      ],
      "metadata": {
        "id": "PTFH7YjY912a"
      }
    },
    {
      "cell_type": "markdown",
      "source": [
        "## Step 1: Install Dopamine\n",
        "---"
      ],
      "metadata": {
        "id": "EMB-sF58-b18"
      }
    },
    {
      "cell_type": "code",
      "execution_count": null,
      "metadata": {
        "colab": {
          "base_uri": "https://localhost:8080/"
        },
        "id": "KFAcmW229qfB",
        "outputId": "43870b82-9975-4080-9444-cdbea5416b09"
      },
      "outputs": [
        {
          "output_type": "stream",
          "name": "stdout",
          "text": [
            "rm: cannot remove 'dopamine_restart': No such file or directory\n",
            "Cloning into 'dopamine_restart'...\n",
            "remote: Enumerating objects: 4365, done.\u001b[K\n",
            "remote: Counting objects: 100% (1843/1843), done.\u001b[K\n",
            "remote: Compressing objects: 100% (537/537), done.\u001b[K\n",
            "remote: Total 4365 (delta 1434), reused 1410 (delta 1306), pack-reused 2522\u001b[K\n",
            "Receiving objects: 100% (4365/4365), 21.19 MiB | 19.46 MiB/s, done.\n",
            "Resolving deltas: 100% (2929/2929), done.\n",
            "Requirement already satisfied: absl-py>=0.9.0 in /usr/local/lib/python3.10/dist-packages (from -r dopamine_restart/requirements.txt (line 1)) (1.4.0)\n",
            "Requirement already satisfied: astunparse>=1.6.3 in /usr/local/lib/python3.10/dist-packages (from -r dopamine_restart/requirements.txt (line 2)) (1.6.3)\n",
            "Requirement already satisfied: cachetools>=4.1.1 in /usr/local/lib/python3.10/dist-packages (from -r dopamine_restart/requirements.txt (line 3)) (5.3.2)\n",
            "Requirement already satisfied: certifi>=2020.6.20 in /usr/local/lib/python3.10/dist-packages (from -r dopamine_restart/requirements.txt (line 4)) (2023.7.22)\n",
            "Requirement already satisfied: chardet>=3.0.4 in /usr/local/lib/python3.10/dist-packages (from -r dopamine_restart/requirements.txt (line 5)) (5.2.0)\n",
            "Requirement already satisfied: cloudpickle>=1.3.0 in /usr/local/lib/python3.10/dist-packages (from -r dopamine_restart/requirements.txt (line 6)) (2.2.1)\n",
            "Requirement already satisfied: cycler>=0.10.0 in /usr/local/lib/python3.10/dist-packages (from -r dopamine_restart/requirements.txt (line 7)) (0.12.1)\n",
            "Requirement already satisfied: flax>=0.5.3 in /usr/local/lib/python3.10/dist-packages (from -r dopamine_restart/requirements.txt (line 8)) (0.7.5)\n",
            "Requirement already satisfied: future>=0.18.2 in /usr/local/lib/python3.10/dist-packages (from -r dopamine_restart/requirements.txt (line 9)) (0.18.3)\n",
            "Requirement already satisfied: gast>=0.3.3 in /usr/local/lib/python3.10/dist-packages (from -r dopamine_restart/requirements.txt (line 10)) (0.5.4)\n",
            "Requirement already satisfied: gin-config>=0.3.0 in /usr/local/lib/python3.10/dist-packages (from -r dopamine_restart/requirements.txt (line 11)) (0.5.0)\n",
            "Requirement already satisfied: google-auth>=1.19.2 in /usr/local/lib/python3.10/dist-packages (from -r dopamine_restart/requirements.txt (line 12)) (2.17.3)\n",
            "Requirement already satisfied: google-auth-oauthlib>=0.4.1 in /usr/local/lib/python3.10/dist-packages (from -r dopamine_restart/requirements.txt (line 13)) (1.0.0)\n",
            "Requirement already satisfied: google-pasta>=0.2.0 in /usr/local/lib/python3.10/dist-packages (from -r dopamine_restart/requirements.txt (line 14)) (0.2.0)\n",
            "Requirement already satisfied: grpcio>=1.30.0 in /usr/local/lib/python3.10/dist-packages (from -r dopamine_restart/requirements.txt (line 15)) (1.59.2)\n",
            "Requirement already satisfied: gym[accept-rom-license,atari]<=0.25.2 in /usr/local/lib/python3.10/dist-packages (from -r dopamine_restart/requirements.txt (line 16)) (0.25.2)\n",
            "Requirement already satisfied: h5py>=2.10.0 in /usr/local/lib/python3.10/dist-packages (from -r dopamine_restart/requirements.txt (line 17)) (3.9.0)\n",
            "Requirement already satisfied: idna>=2.10 in /usr/local/lib/python3.10/dist-packages (from -r dopamine_restart/requirements.txt (line 18)) (3.4)\n",
            "Requirement already satisfied: jax>=0.3.16 in /usr/local/lib/python3.10/dist-packages (from -r dopamine_restart/requirements.txt (line 19)) (0.4.20)\n",
            "Requirement already satisfied: jaxlib>=0.3.15 in /usr/local/lib/python3.10/dist-packages (from -r dopamine_restart/requirements.txt (line 20)) (0.4.20+cuda11.cudnn86)\n",
            "Collecting Keras-Preprocessing>=1.1.2 (from -r dopamine_restart/requirements.txt (line 21))\n",
            "  Downloading Keras_Preprocessing-1.1.2-py2.py3-none-any.whl (42 kB)\n",
            "\u001b[2K     \u001b[90m━━━━━━━━━━━━━━━━━━━━━━━━━━━━━━━━━━━━━━━━\u001b[0m \u001b[32m42.6/42.6 kB\u001b[0m \u001b[31m1.2 MB/s\u001b[0m eta \u001b[36m0:00:00\u001b[0m\n",
            "\u001b[?25hRequirement already satisfied: kiwisolver>=1.2.0 in /usr/local/lib/python3.10/dist-packages (from -r dopamine_restart/requirements.txt (line 22)) (1.4.5)\n",
            "Requirement already satisfied: Markdown>=3.2.2 in /usr/local/lib/python3.10/dist-packages (from -r dopamine_restart/requirements.txt (line 23)) (3.5.1)\n",
            "Requirement already satisfied: matplotlib>=3.3.0 in /usr/local/lib/python3.10/dist-packages (from -r dopamine_restart/requirements.txt (line 24)) (3.7.1)\n",
            "Requirement already satisfied: msgpack>=1.0.0 in /usr/local/lib/python3.10/dist-packages (from -r dopamine_restart/requirements.txt (line 25)) (1.0.7)\n",
            "Requirement already satisfied: numpy>=1.18.5 in /usr/local/lib/python3.10/dist-packages (from -r dopamine_restart/requirements.txt (line 26)) (1.23.5)\n",
            "Requirement already satisfied: oauthlib>=3.1.0 in /usr/local/lib/python3.10/dist-packages (from -r dopamine_restart/requirements.txt (line 27)) (3.2.2)\n",
            "Requirement already satisfied: opencv-python>=4.3.0.36 in /usr/local/lib/python3.10/dist-packages (from -r dopamine_restart/requirements.txt (line 28)) (4.8.0.76)\n",
            "Requirement already satisfied: opt-einsum>=3.3.0 in /usr/local/lib/python3.10/dist-packages (from -r dopamine_restart/requirements.txt (line 29)) (3.3.0)\n",
            "Requirement already satisfied: pandas>=1.0.5 in /usr/local/lib/python3.10/dist-packages (from -r dopamine_restart/requirements.txt (line 30)) (1.5.3)\n",
            "Requirement already satisfied: Pillow>=7.2.0 in /usr/local/lib/python3.10/dist-packages (from -r dopamine_restart/requirements.txt (line 31)) (9.4.0)\n",
            "Requirement already satisfied: protobuf>=3.12.2 in /usr/local/lib/python3.10/dist-packages (from -r dopamine_restart/requirements.txt (line 32)) (3.20.3)\n",
            "Requirement already satisfied: pyasn1>=0.4.8 in /usr/local/lib/python3.10/dist-packages (from -r dopamine_restart/requirements.txt (line 33)) (0.5.0)\n",
            "Requirement already satisfied: pyasn1-modules>=0.2.8 in /usr/local/lib/python3.10/dist-packages (from -r dopamine_restart/requirements.txt (line 34)) (0.3.0)\n",
            "Requirement already satisfied: pygame>=1.9.6 in /usr/local/lib/python3.10/dist-packages (from -r dopamine_restart/requirements.txt (line 35)) (2.5.2)\n",
            "Collecting pyglet>=1.5.0 (from -r dopamine_restart/requirements.txt (line 36))\n",
            "  Downloading pyglet-2.0.10-py3-none-any.whl (858 kB)\n",
            "\u001b[2K     \u001b[90m━━━━━━━━━━━━━━━━━━━━━━━━━━━━━━━━━━━━━━━━\u001b[0m \u001b[32m858.3/858.3 kB\u001b[0m \u001b[31m16.0 MB/s\u001b[0m eta \u001b[36m0:00:00\u001b[0m\n",
            "\u001b[?25hRequirement already satisfied: pyparsing>=2.4.7 in /usr/local/lib/python3.10/dist-packages (from -r dopamine_restart/requirements.txt (line 37)) (3.1.1)\n",
            "Requirement already satisfied: python-dateutil>=2.8.1 in /usr/local/lib/python3.10/dist-packages (from -r dopamine_restart/requirements.txt (line 38)) (2.8.2)\n",
            "Requirement already satisfied: pytz>=2020.1 in /usr/local/lib/python3.10/dist-packages (from -r dopamine_restart/requirements.txt (line 39)) (2023.3.post1)\n",
            "Requirement already satisfied: requests>=2.24.0 in /usr/local/lib/python3.10/dist-packages (from -r dopamine_restart/requirements.txt (line 40)) (2.31.0)\n",
            "Requirement already satisfied: requests-oauthlib>=1.3.0 in /usr/local/lib/python3.10/dist-packages (from -r dopamine_restart/requirements.txt (line 41)) (1.3.1)\n",
            "Requirement already satisfied: rsa>=4.6 in /usr/local/lib/python3.10/dist-packages (from -r dopamine_restart/requirements.txt (line 42)) (4.9)\n",
            "Requirement already satisfied: scipy>=1.4.1 in /usr/local/lib/python3.10/dist-packages (from -r dopamine_restart/requirements.txt (line 43)) (1.11.3)\n",
            "Requirement already satisfied: six>=1.15.0 in /usr/local/lib/python3.10/dist-packages (from -r dopamine_restart/requirements.txt (line 44)) (1.16.0)\n",
            "Requirement already satisfied: setuptools>=49.2.01 in /usr/local/lib/python3.10/dist-packages (from -r dopamine_restart/requirements.txt (line 45)) (67.7.2)\n",
            "Requirement already satisfied: tensorboard in /usr/local/lib/python3.10/dist-packages (from -r dopamine_restart/requirements.txt (line 46)) (2.14.1)\n",
            "Collecting tensorboard-plugin-wit (from -r dopamine_restart/requirements.txt (line 47))\n",
            "  Downloading tensorboard_plugin_wit-1.8.1-py3-none-any.whl (781 kB)\n",
            "\u001b[2K     \u001b[90m━━━━━━━━━━━━━━━━━━━━━━━━━━━━━━━━━━━━━━━━\u001b[0m \u001b[32m781.3/781.3 kB\u001b[0m \u001b[31m35.1 MB/s\u001b[0m eta \u001b[36m0:00:00\u001b[0m\n",
            "\u001b[?25hRequirement already satisfied: tensorflow in /usr/local/lib/python3.10/dist-packages (from -r dopamine_restart/requirements.txt (line 48)) (2.14.0)\n",
            "Requirement already satisfied: tensorflow-estimator in /usr/local/lib/python3.10/dist-packages (from -r dopamine_restart/requirements.txt (line 49)) (2.14.0)\n",
            "Requirement already satisfied: tensorflow-probability>=0.13.0 in /usr/local/lib/python3.10/dist-packages (from -r dopamine_restart/requirements.txt (line 50)) (0.22.0)\n",
            "Requirement already satisfied: termcolor>=1.1.0 in /usr/local/lib/python3.10/dist-packages (from -r dopamine_restart/requirements.txt (line 51)) (2.3.0)\n",
            "Requirement already satisfied: tf-slim>=1.1.0 in /usr/local/lib/python3.10/dist-packages (from -r dopamine_restart/requirements.txt (line 52)) (1.1.0)\n",
            "Requirement already satisfied: urllib3>=1.25.10 in /usr/local/lib/python3.10/dist-packages (from -r dopamine_restart/requirements.txt (line 53)) (2.0.7)\n",
            "Requirement already satisfied: Werkzeug>=1.0.1 in /usr/local/lib/python3.10/dist-packages (from -r dopamine_restart/requirements.txt (line 54)) (3.0.1)\n",
            "Requirement already satisfied: wrapt>=1.12.1 in /usr/local/lib/python3.10/dist-packages (from -r dopamine_restart/requirements.txt (line 55)) (1.14.1)\n",
            "Requirement already satisfied: wheel<1.0,>=0.23.0 in /usr/local/lib/python3.10/dist-packages (from astunparse>=1.6.3->-r dopamine_restart/requirements.txt (line 2)) (0.41.3)\n",
            "Requirement already satisfied: optax in /usr/local/lib/python3.10/dist-packages (from flax>=0.5.3->-r dopamine_restart/requirements.txt (line 8)) (0.1.7)\n",
            "Requirement already satisfied: orbax-checkpoint in /usr/local/lib/python3.10/dist-packages (from flax>=0.5.3->-r dopamine_restart/requirements.txt (line 8)) (0.4.2)\n",
            "Requirement already satisfied: tensorstore in /usr/local/lib/python3.10/dist-packages (from flax>=0.5.3->-r dopamine_restart/requirements.txt (line 8)) (0.1.45)\n",
            "Requirement already satisfied: rich>=11.1 in /usr/local/lib/python3.10/dist-packages (from flax>=0.5.3->-r dopamine_restart/requirements.txt (line 8)) (13.7.0)\n",
            "Requirement already satisfied: typing-extensions>=4.2 in /usr/local/lib/python3.10/dist-packages (from flax>=0.5.3->-r dopamine_restart/requirements.txt (line 8)) (4.5.0)\n",
            "Requirement already satisfied: PyYAML>=5.4.1 in /usr/local/lib/python3.10/dist-packages (from flax>=0.5.3->-r dopamine_restart/requirements.txt (line 8)) (6.0.1)\n",
            "Requirement already satisfied: gym-notices>=0.0.4 in /usr/local/lib/python3.10/dist-packages (from gym[accept-rom-license,atari]<=0.25.2->-r dopamine_restart/requirements.txt (line 16)) (0.0.8)\n",
            "Collecting autorom[accept-rom-license]~=0.4.2 (from gym[accept-rom-license,atari]<=0.25.2->-r dopamine_restart/requirements.txt (line 16))\n",
            "  Downloading AutoROM-0.4.2-py3-none-any.whl (16 kB)\n",
            "Collecting ale-py~=0.7.5 (from gym[accept-rom-license,atari]<=0.25.2->-r dopamine_restart/requirements.txt (line 16))\n",
            "  Downloading ale_py-0.7.5-cp310-cp310-manylinux_2_17_x86_64.manylinux2014_x86_64.whl (1.6 MB)\n",
            "\u001b[2K     \u001b[90m━━━━━━━━━━━━━━━━━━━━━━━━━━━━━━━━━━━━━━━━\u001b[0m \u001b[32m1.6/1.6 MB\u001b[0m \u001b[31m61.6 MB/s\u001b[0m eta \u001b[36m0:00:00\u001b[0m\n",
            "\u001b[?25hRequirement already satisfied: ml-dtypes>=0.2.0 in /usr/local/lib/python3.10/dist-packages (from jax>=0.3.16->-r dopamine_restart/requirements.txt (line 19)) (0.2.0)\n",
            "Requirement already satisfied: contourpy>=1.0.1 in /usr/local/lib/python3.10/dist-packages (from matplotlib>=3.3.0->-r dopamine_restart/requirements.txt (line 24)) (1.2.0)\n",
            "Requirement already satisfied: fonttools>=4.22.0 in /usr/local/lib/python3.10/dist-packages (from matplotlib>=3.3.0->-r dopamine_restart/requirements.txt (line 24)) (4.44.3)\n",
            "Requirement already satisfied: packaging>=20.0 in /usr/local/lib/python3.10/dist-packages (from matplotlib>=3.3.0->-r dopamine_restart/requirements.txt (line 24)) (23.2)\n",
            "Requirement already satisfied: charset-normalizer<4,>=2 in /usr/local/lib/python3.10/dist-packages (from requests>=2.24.0->-r dopamine_restart/requirements.txt (line 40)) (3.3.2)\n",
            "Requirement already satisfied: tensorboard-data-server<0.8.0,>=0.7.0 in /usr/local/lib/python3.10/dist-packages (from tensorboard->-r dopamine_restart/requirements.txt (line 46)) (0.7.2)\n",
            "Requirement already satisfied: flatbuffers>=23.5.26 in /usr/local/lib/python3.10/dist-packages (from tensorflow->-r dopamine_restart/requirements.txt (line 48)) (23.5.26)\n",
            "Requirement already satisfied: libclang>=13.0.0 in /usr/local/lib/python3.10/dist-packages (from tensorflow->-r dopamine_restart/requirements.txt (line 48)) (16.0.6)\n",
            "Requirement already satisfied: tensorflow-io-gcs-filesystem>=0.23.1 in /usr/local/lib/python3.10/dist-packages (from tensorflow->-r dopamine_restart/requirements.txt (line 48)) (0.34.0)\n",
            "Requirement already satisfied: keras<2.15,>=2.14.0 in /usr/local/lib/python3.10/dist-packages (from tensorflow->-r dopamine_restart/requirements.txt (line 48)) (2.14.0)\n",
            "Requirement already satisfied: decorator in /usr/local/lib/python3.10/dist-packages (from tensorflow-probability>=0.13.0->-r dopamine_restart/requirements.txt (line 50)) (4.4.2)\n",
            "Requirement already satisfied: dm-tree in /usr/local/lib/python3.10/dist-packages (from tensorflow-probability>=0.13.0->-r dopamine_restart/requirements.txt (line 50)) (0.1.8)\n",
            "Requirement already satisfied: MarkupSafe>=2.1.1 in /usr/local/lib/python3.10/dist-packages (from Werkzeug>=1.0.1->-r dopamine_restart/requirements.txt (line 54)) (2.1.3)\n",
            "Requirement already satisfied: importlib-resources in /usr/local/lib/python3.10/dist-packages (from ale-py~=0.7.5->gym[accept-rom-license,atari]<=0.25.2->-r dopamine_restart/requirements.txt (line 16)) (6.1.1)\n",
            "Requirement already satisfied: click in /usr/local/lib/python3.10/dist-packages (from autorom[accept-rom-license]~=0.4.2->gym[accept-rom-license,atari]<=0.25.2->-r dopamine_restart/requirements.txt (line 16)) (8.1.7)\n",
            "Requirement already satisfied: tqdm in /usr/local/lib/python3.10/dist-packages (from autorom[accept-rom-license]~=0.4.2->gym[accept-rom-license,atari]<=0.25.2->-r dopamine_restart/requirements.txt (line 16)) (4.66.1)\n",
            "Collecting AutoROM.accept-rom-license (from autorom[accept-rom-license]~=0.4.2->gym[accept-rom-license,atari]<=0.25.2->-r dopamine_restart/requirements.txt (line 16))\n",
            "  Downloading AutoROM.accept-rom-license-0.6.1.tar.gz (434 kB)\n",
            "\u001b[2K     \u001b[90m━━━━━━━━━━━━━━━━━━━━━━━━━━━━━━━━━━━━━━━━\u001b[0m \u001b[32m434.7/434.7 kB\u001b[0m \u001b[31m44.9 MB/s\u001b[0m eta \u001b[36m0:00:00\u001b[0m\n",
            "\u001b[?25h  Installing build dependencies ... \u001b[?25l\u001b[?25hdone\n",
            "  Getting requirements to build wheel ... \u001b[?25l\u001b[?25hdone\n",
            "  Preparing metadata (pyproject.toml) ... \u001b[?25l\u001b[?25hdone\n",
            "Requirement already satisfied: markdown-it-py>=2.2.0 in /usr/local/lib/python3.10/dist-packages (from rich>=11.1->flax>=0.5.3->-r dopamine_restart/requirements.txt (line 8)) (3.0.0)\n",
            "Requirement already satisfied: pygments<3.0.0,>=2.13.0 in /usr/local/lib/python3.10/dist-packages (from rich>=11.1->flax>=0.5.3->-r dopamine_restart/requirements.txt (line 8)) (2.16.1)\n",
            "Requirement already satisfied: chex>=0.1.5 in /usr/local/lib/python3.10/dist-packages (from optax->flax>=0.5.3->-r dopamine_restart/requirements.txt (line 8)) (0.1.7)\n",
            "Requirement already satisfied: etils[epath,epy] in /usr/local/lib/python3.10/dist-packages (from orbax-checkpoint->flax>=0.5.3->-r dopamine_restart/requirements.txt (line 8)) (1.5.2)\n",
            "Requirement already satisfied: nest_asyncio in /usr/local/lib/python3.10/dist-packages (from orbax-checkpoint->flax>=0.5.3->-r dopamine_restart/requirements.txt (line 8)) (1.5.8)\n",
            "Requirement already satisfied: toolz>=0.9.0 in /usr/local/lib/python3.10/dist-packages (from chex>=0.1.5->optax->flax>=0.5.3->-r dopamine_restart/requirements.txt (line 8)) (0.12.0)\n",
            "Requirement already satisfied: mdurl~=0.1 in /usr/local/lib/python3.10/dist-packages (from markdown-it-py>=2.2.0->rich>=11.1->flax>=0.5.3->-r dopamine_restart/requirements.txt (line 8)) (0.1.2)\n",
            "Requirement already satisfied: fsspec in /usr/local/lib/python3.10/dist-packages (from etils[epath,epy]->orbax-checkpoint->flax>=0.5.3->-r dopamine_restart/requirements.txt (line 8)) (2023.6.0)\n",
            "Requirement already satisfied: zipp in /usr/local/lib/python3.10/dist-packages (from etils[epath,epy]->orbax-checkpoint->flax>=0.5.3->-r dopamine_restart/requirements.txt (line 8)) (3.17.0)\n",
            "Building wheels for collected packages: AutoROM.accept-rom-license\n",
            "  Building wheel for AutoROM.accept-rom-license (pyproject.toml) ... \u001b[?25l\u001b[?25hdone\n",
            "  Created wheel for AutoROM.accept-rom-license: filename=AutoROM.accept_rom_license-0.6.1-py3-none-any.whl size=446660 sha256=34d7de38429c0d6a5024c1da9dbacd5a3fa0a0c32d38e714454b3d26e9d31459\n",
            "  Stored in directory: /root/.cache/pip/wheels/6b/1b/ef/a43ff1a2f1736d5711faa1ba4c1f61be1131b8899e6a057811\n",
            "Successfully built AutoROM.accept-rom-license\n",
            "Installing collected packages: tensorboard-plugin-wit, pyglet, Keras-Preprocessing, ale-py, AutoROM.accept-rom-license, autorom\n",
            "Successfully installed AutoROM.accept-rom-license-0.6.1 Keras-Preprocessing-1.1.2 ale-py-0.7.5 autorom-0.4.2 pyglet-2.0.10 tensorboard-plugin-wit-1.8.1\n",
            "/content/dopamine_restart\n",
            "Processing /content/dopamine_restart\n",
            "  Preparing metadata (setup.py) ... \u001b[?25l\u001b[?25hdone\n",
            "Requirement already satisfied: tensorflow>=2.2.0 in /usr/local/lib/python3.10/dist-packages (from dopamine-rl==4.0.6) (2.14.0)\n",
            "Requirement already satisfied: gin-config>=0.3.0 in /usr/local/lib/python3.10/dist-packages (from dopamine-rl==4.0.6) (0.5.0)\n",
            "Requirement already satisfied: absl-py>=0.9.0 in /usr/local/lib/python3.10/dist-packages (from dopamine-rl==4.0.6) (1.4.0)\n",
            "Requirement already satisfied: opencv-python>=3.4.8.29 in /usr/local/lib/python3.10/dist-packages (from dopamine-rl==4.0.6) (4.8.0.76)\n",
            "Requirement already satisfied: gym<=0.25.2 in /usr/local/lib/python3.10/dist-packages (from dopamine-rl==4.0.6) (0.25.2)\n",
            "Requirement already satisfied: flax>=0.2.0 in /usr/local/lib/python3.10/dist-packages (from dopamine-rl==4.0.6) (0.7.5)\n",
            "Requirement already satisfied: jax>=0.1.72 in /usr/local/lib/python3.10/dist-packages (from dopamine-rl==4.0.6) (0.4.20)\n",
            "Requirement already satisfied: jaxlib>=0.1.51 in /usr/local/lib/python3.10/dist-packages (from dopamine-rl==4.0.6) (0.4.20+cuda11.cudnn86)\n",
            "Requirement already satisfied: Pillow>=7.0.0 in /usr/local/lib/python3.10/dist-packages (from dopamine-rl==4.0.6) (9.4.0)\n",
            "Requirement already satisfied: numpy>=1.16.4 in /usr/local/lib/python3.10/dist-packages (from dopamine-rl==4.0.6) (1.23.5)\n",
            "Requirement already satisfied: pygame>=1.9.2 in /usr/local/lib/python3.10/dist-packages (from dopamine-rl==4.0.6) (2.5.2)\n",
            "Requirement already satisfied: pandas>=0.24.2 in /usr/local/lib/python3.10/dist-packages (from dopamine-rl==4.0.6) (1.5.3)\n",
            "Requirement already satisfied: tf_slim>=1.0 in /usr/local/lib/python3.10/dist-packages (from dopamine-rl==4.0.6) (1.1.0)\n",
            "Requirement already satisfied: tensorflow-probability>=0.13.0 in /usr/local/lib/python3.10/dist-packages (from dopamine-rl==4.0.6) (0.22.0)\n",
            "Requirement already satisfied: msgpack in /usr/local/lib/python3.10/dist-packages (from flax>=0.2.0->dopamine-rl==4.0.6) (1.0.7)\n",
            "Requirement already satisfied: optax in /usr/local/lib/python3.10/dist-packages (from flax>=0.2.0->dopamine-rl==4.0.6) (0.1.7)\n",
            "Requirement already satisfied: orbax-checkpoint in /usr/local/lib/python3.10/dist-packages (from flax>=0.2.0->dopamine-rl==4.0.6) (0.4.2)\n",
            "Requirement already satisfied: tensorstore in /usr/local/lib/python3.10/dist-packages (from flax>=0.2.0->dopamine-rl==4.0.6) (0.1.45)\n",
            "Requirement already satisfied: rich>=11.1 in /usr/local/lib/python3.10/dist-packages (from flax>=0.2.0->dopamine-rl==4.0.6) (13.7.0)\n",
            "Requirement already satisfied: typing-extensions>=4.2 in /usr/local/lib/python3.10/dist-packages (from flax>=0.2.0->dopamine-rl==4.0.6) (4.5.0)\n",
            "Requirement already satisfied: PyYAML>=5.4.1 in /usr/local/lib/python3.10/dist-packages (from flax>=0.2.0->dopamine-rl==4.0.6) (6.0.1)\n",
            "Requirement already satisfied: cloudpickle>=1.2.0 in /usr/local/lib/python3.10/dist-packages (from gym<=0.25.2->dopamine-rl==4.0.6) (2.2.1)\n",
            "Requirement already satisfied: gym-notices>=0.0.4 in /usr/local/lib/python3.10/dist-packages (from gym<=0.25.2->dopamine-rl==4.0.6) (0.0.8)\n",
            "Requirement already satisfied: ml-dtypes>=0.2.0 in /usr/local/lib/python3.10/dist-packages (from jax>=0.1.72->dopamine-rl==4.0.6) (0.2.0)\n",
            "Requirement already satisfied: opt-einsum in /usr/local/lib/python3.10/dist-packages (from jax>=0.1.72->dopamine-rl==4.0.6) (3.3.0)\n",
            "Requirement already satisfied: scipy>=1.9 in /usr/local/lib/python3.10/dist-packages (from jax>=0.1.72->dopamine-rl==4.0.6) (1.11.3)\n",
            "Requirement already satisfied: python-dateutil>=2.8.1 in /usr/local/lib/python3.10/dist-packages (from pandas>=0.24.2->dopamine-rl==4.0.6) (2.8.2)\n",
            "Requirement already satisfied: pytz>=2020.1 in /usr/local/lib/python3.10/dist-packages (from pandas>=0.24.2->dopamine-rl==4.0.6) (2023.3.post1)\n",
            "Requirement already satisfied: astunparse>=1.6.0 in /usr/local/lib/python3.10/dist-packages (from tensorflow>=2.2.0->dopamine-rl==4.0.6) (1.6.3)\n",
            "Requirement already satisfied: flatbuffers>=23.5.26 in /usr/local/lib/python3.10/dist-packages (from tensorflow>=2.2.0->dopamine-rl==4.0.6) (23.5.26)\n",
            "Requirement already satisfied: gast!=0.5.0,!=0.5.1,!=0.5.2,>=0.2.1 in /usr/local/lib/python3.10/dist-packages (from tensorflow>=2.2.0->dopamine-rl==4.0.6) (0.5.4)\n",
            "Requirement already satisfied: google-pasta>=0.1.1 in /usr/local/lib/python3.10/dist-packages (from tensorflow>=2.2.0->dopamine-rl==4.0.6) (0.2.0)\n",
            "Requirement already satisfied: h5py>=2.9.0 in /usr/local/lib/python3.10/dist-packages (from tensorflow>=2.2.0->dopamine-rl==4.0.6) (3.9.0)\n",
            "Requirement already satisfied: libclang>=13.0.0 in /usr/local/lib/python3.10/dist-packages (from tensorflow>=2.2.0->dopamine-rl==4.0.6) (16.0.6)\n",
            "Requirement already satisfied: packaging in /usr/local/lib/python3.10/dist-packages (from tensorflow>=2.2.0->dopamine-rl==4.0.6) (23.2)\n",
            "Requirement already satisfied: protobuf!=4.21.0,!=4.21.1,!=4.21.2,!=4.21.3,!=4.21.4,!=4.21.5,<5.0.0dev,>=3.20.3 in /usr/local/lib/python3.10/dist-packages (from tensorflow>=2.2.0->dopamine-rl==4.0.6) (3.20.3)\n",
            "Requirement already satisfied: setuptools in /usr/local/lib/python3.10/dist-packages (from tensorflow>=2.2.0->dopamine-rl==4.0.6) (67.7.2)\n",
            "Requirement already satisfied: six>=1.12.0 in /usr/local/lib/python3.10/dist-packages (from tensorflow>=2.2.0->dopamine-rl==4.0.6) (1.16.0)\n",
            "Requirement already satisfied: termcolor>=1.1.0 in /usr/local/lib/python3.10/dist-packages (from tensorflow>=2.2.0->dopamine-rl==4.0.6) (2.3.0)\n",
            "Requirement already satisfied: wrapt<1.15,>=1.11.0 in /usr/local/lib/python3.10/dist-packages (from tensorflow>=2.2.0->dopamine-rl==4.0.6) (1.14.1)\n",
            "Requirement already satisfied: tensorflow-io-gcs-filesystem>=0.23.1 in /usr/local/lib/python3.10/dist-packages (from tensorflow>=2.2.0->dopamine-rl==4.0.6) (0.34.0)\n",
            "Requirement already satisfied: grpcio<2.0,>=1.24.3 in /usr/local/lib/python3.10/dist-packages (from tensorflow>=2.2.0->dopamine-rl==4.0.6) (1.59.2)\n",
            "Requirement already satisfied: tensorboard<2.15,>=2.14 in /usr/local/lib/python3.10/dist-packages (from tensorflow>=2.2.0->dopamine-rl==4.0.6) (2.14.1)\n",
            "Requirement already satisfied: tensorflow-estimator<2.15,>=2.14.0 in /usr/local/lib/python3.10/dist-packages (from tensorflow>=2.2.0->dopamine-rl==4.0.6) (2.14.0)\n",
            "Requirement already satisfied: keras<2.15,>=2.14.0 in /usr/local/lib/python3.10/dist-packages (from tensorflow>=2.2.0->dopamine-rl==4.0.6) (2.14.0)\n",
            "Requirement already satisfied: decorator in /usr/local/lib/python3.10/dist-packages (from tensorflow-probability>=0.13.0->dopamine-rl==4.0.6) (4.4.2)\n",
            "Requirement already satisfied: dm-tree in /usr/local/lib/python3.10/dist-packages (from tensorflow-probability>=0.13.0->dopamine-rl==4.0.6) (0.1.8)\n",
            "Requirement already satisfied: wheel<1.0,>=0.23.0 in /usr/local/lib/python3.10/dist-packages (from astunparse>=1.6.0->tensorflow>=2.2.0->dopamine-rl==4.0.6) (0.41.3)\n",
            "Requirement already satisfied: markdown-it-py>=2.2.0 in /usr/local/lib/python3.10/dist-packages (from rich>=11.1->flax>=0.2.0->dopamine-rl==4.0.6) (3.0.0)\n",
            "Requirement already satisfied: pygments<3.0.0,>=2.13.0 in /usr/local/lib/python3.10/dist-packages (from rich>=11.1->flax>=0.2.0->dopamine-rl==4.0.6) (2.16.1)\n",
            "Requirement already satisfied: google-auth<3,>=1.6.3 in /usr/local/lib/python3.10/dist-packages (from tensorboard<2.15,>=2.14->tensorflow>=2.2.0->dopamine-rl==4.0.6) (2.17.3)\n",
            "Requirement already satisfied: google-auth-oauthlib<1.1,>=0.5 in /usr/local/lib/python3.10/dist-packages (from tensorboard<2.15,>=2.14->tensorflow>=2.2.0->dopamine-rl==4.0.6) (1.0.0)\n",
            "Requirement already satisfied: markdown>=2.6.8 in /usr/local/lib/python3.10/dist-packages (from tensorboard<2.15,>=2.14->tensorflow>=2.2.0->dopamine-rl==4.0.6) (3.5.1)\n",
            "Requirement already satisfied: requests<3,>=2.21.0 in /usr/local/lib/python3.10/dist-packages (from tensorboard<2.15,>=2.14->tensorflow>=2.2.0->dopamine-rl==4.0.6) (2.31.0)\n",
            "Requirement already satisfied: tensorboard-data-server<0.8.0,>=0.7.0 in /usr/local/lib/python3.10/dist-packages (from tensorboard<2.15,>=2.14->tensorflow>=2.2.0->dopamine-rl==4.0.6) (0.7.2)\n",
            "Requirement already satisfied: werkzeug>=1.0.1 in /usr/local/lib/python3.10/dist-packages (from tensorboard<2.15,>=2.14->tensorflow>=2.2.0->dopamine-rl==4.0.6) (3.0.1)\n",
            "Requirement already satisfied: chex>=0.1.5 in /usr/local/lib/python3.10/dist-packages (from optax->flax>=0.2.0->dopamine-rl==4.0.6) (0.1.7)\n",
            "Requirement already satisfied: etils[epath,epy] in /usr/local/lib/python3.10/dist-packages (from orbax-checkpoint->flax>=0.2.0->dopamine-rl==4.0.6) (1.5.2)\n",
            "Requirement already satisfied: nest_asyncio in /usr/local/lib/python3.10/dist-packages (from orbax-checkpoint->flax>=0.2.0->dopamine-rl==4.0.6) (1.5.8)\n",
            "Requirement already satisfied: toolz>=0.9.0 in /usr/local/lib/python3.10/dist-packages (from chex>=0.1.5->optax->flax>=0.2.0->dopamine-rl==4.0.6) (0.12.0)\n",
            "Requirement already satisfied: cachetools<6.0,>=2.0.0 in /usr/local/lib/python3.10/dist-packages (from google-auth<3,>=1.6.3->tensorboard<2.15,>=2.14->tensorflow>=2.2.0->dopamine-rl==4.0.6) (5.3.2)\n",
            "Requirement already satisfied: pyasn1-modules>=0.2.1 in /usr/local/lib/python3.10/dist-packages (from google-auth<3,>=1.6.3->tensorboard<2.15,>=2.14->tensorflow>=2.2.0->dopamine-rl==4.0.6) (0.3.0)\n",
            "Requirement already satisfied: rsa<5,>=3.1.4 in /usr/local/lib/python3.10/dist-packages (from google-auth<3,>=1.6.3->tensorboard<2.15,>=2.14->tensorflow>=2.2.0->dopamine-rl==4.0.6) (4.9)\n",
            "Requirement already satisfied: requests-oauthlib>=0.7.0 in /usr/local/lib/python3.10/dist-packages (from google-auth-oauthlib<1.1,>=0.5->tensorboard<2.15,>=2.14->tensorflow>=2.2.0->dopamine-rl==4.0.6) (1.3.1)\n",
            "Requirement already satisfied: mdurl~=0.1 in /usr/local/lib/python3.10/dist-packages (from markdown-it-py>=2.2.0->rich>=11.1->flax>=0.2.0->dopamine-rl==4.0.6) (0.1.2)\n",
            "Requirement already satisfied: charset-normalizer<4,>=2 in /usr/local/lib/python3.10/dist-packages (from requests<3,>=2.21.0->tensorboard<2.15,>=2.14->tensorflow>=2.2.0->dopamine-rl==4.0.6) (3.3.2)\n",
            "Requirement already satisfied: idna<4,>=2.5 in /usr/local/lib/python3.10/dist-packages (from requests<3,>=2.21.0->tensorboard<2.15,>=2.14->tensorflow>=2.2.0->dopamine-rl==4.0.6) (3.4)\n",
            "Requirement already satisfied: urllib3<3,>=1.21.1 in /usr/local/lib/python3.10/dist-packages (from requests<3,>=2.21.0->tensorboard<2.15,>=2.14->tensorflow>=2.2.0->dopamine-rl==4.0.6) (2.0.7)\n",
            "Requirement already satisfied: certifi>=2017.4.17 in /usr/local/lib/python3.10/dist-packages (from requests<3,>=2.21.0->tensorboard<2.15,>=2.14->tensorflow>=2.2.0->dopamine-rl==4.0.6) (2023.7.22)\n",
            "Requirement already satisfied: MarkupSafe>=2.1.1 in /usr/local/lib/python3.10/dist-packages (from werkzeug>=1.0.1->tensorboard<2.15,>=2.14->tensorflow>=2.2.0->dopamine-rl==4.0.6) (2.1.3)\n",
            "Requirement already satisfied: fsspec in /usr/local/lib/python3.10/dist-packages (from etils[epath,epy]->orbax-checkpoint->flax>=0.2.0->dopamine-rl==4.0.6) (2023.6.0)\n",
            "Requirement already satisfied: importlib_resources in /usr/local/lib/python3.10/dist-packages (from etils[epath,epy]->orbax-checkpoint->flax>=0.2.0->dopamine-rl==4.0.6) (6.1.1)\n",
            "Requirement already satisfied: zipp in /usr/local/lib/python3.10/dist-packages (from etils[epath,epy]->orbax-checkpoint->flax>=0.2.0->dopamine-rl==4.0.6) (3.17.0)\n",
            "Requirement already satisfied: pyasn1<0.6.0,>=0.4.6 in /usr/local/lib/python3.10/dist-packages (from pyasn1-modules>=0.2.1->google-auth<3,>=1.6.3->tensorboard<2.15,>=2.14->tensorflow>=2.2.0->dopamine-rl==4.0.6) (0.5.0)\n",
            "Requirement already satisfied: oauthlib>=3.0.0 in /usr/local/lib/python3.10/dist-packages (from requests-oauthlib>=0.7.0->google-auth-oauthlib<1.1,>=0.5->tensorboard<2.15,>=2.14->tensorflow>=2.2.0->dopamine-rl==4.0.6) (3.2.2)\n",
            "Building wheels for collected packages: dopamine-rl\n",
            "  Building wheel for dopamine-rl (setup.py) ... \u001b[?25l\u001b[?25hdone\n",
            "  Created wheel for dopamine-rl: filename=dopamine_rl-4.0.6-py3-none-any.whl size=200176 sha256=d8f22267ccfd67d94cb681728047cb37092bd482a078204eb13df06ae641749a\n",
            "  Stored in directory: /tmp/pip-ephem-wheel-cache-v0ktkc4u/wheels/e3/51/cb/e96db00dfa0d7e49a26467dc61d49f4222f6eb88a1a28df132\n",
            "Successfully built dopamine-rl\n",
            "Installing collected packages: dopamine-rl\n",
            "  Attempting uninstall: dopamine-rl\n",
            "    Found existing installation: dopamine-rl 4.0.6\n",
            "    Uninstalling dopamine-rl-4.0.6:\n",
            "      Successfully uninstalled dopamine-rl-4.0.6\n",
            "Successfully installed dopamine-rl-4.0.6\n",
            "/content\n"
          ]
        }
      ],
      "source": [
        "# @title Install Dopamine from source\n",
        "!rm -r dopamine_restart\n",
        "!git clone -b patrik https://github.com/Mattia-Colbertaldo/dopamine_restart.git\n",
        "!pip install -r dopamine_restart/requirements.txt\n",
        "\n",
        "# Install the dopamine package itself (required as there might be previous unseen instalations)\n",
        "%cd dopamine_restart\n",
        "!pip install .\n",
        "%cd .."
      ]
    },
    {
      "cell_type": "markdown",
      "source": [
        "## Step 2: Set-up and run the experiment\n",
        "---\n"
      ],
      "metadata": {
        "id": "FLVNpYMf-s5F"
      }
    },
    {
      "cell_type": "code",
      "source": [
        "# @title Import dependencies and set up base path\n",
        "import numpy as np\n",
        "import os\n",
        "\n",
        "from dopamine.discrete_domains import run_experiment\n",
        "from dopamine.colab import utils as colab_utils\n",
        "from absl import flags\n",
        "import gin.tf\n",
        "\n",
        "BASE_PATH = '/tmp/colab_dopamine_run'  # @param"
      ],
      "metadata": {
        "colab": {
          "base_uri": "https://localhost:8080/"
        },
        "cellView": "form",
        "id": "H5EoNvOz-xj1",
        "outputId": "e93e1234-65c9-4e66-edda-0214bfc6e04c"
      },
      "execution_count": null,
      "outputs": [
        {
          "output_type": "stream",
          "name": "stderr",
          "text": [
            "/usr/local/lib/python3.10/dist-packages/tensorflow/python/framework/dtypes.py:35: DeprecationWarning: ml_dtypes.float8_e4m3b11 is deprecated. Use ml_dtypes.float8_e4m3b11fnuz\n",
            "  from tensorflow.tsl.python.lib.core import pywrap_ml_dtypes\n",
            "/usr/local/lib/python3.10/dist-packages/gin/tf/__init__.py:48: DeprecationWarning: distutils Version classes are deprecated. Use packaging.version instead.\n",
            "  if (distutils.version.LooseVersion(tf.__version__) <\n",
            "/usr/local/lib/python3.10/dist-packages/flax/configurations.py:42: DeprecationWarning: jax.config.define_bool_state is deprecated. Please use other libraries for configuration instead.\n",
            "  return jax_config.define_bool_state('flax_' + name, default, help)\n",
            "/usr/local/lib/python3.10/dist-packages/chex/_src/pytypes.py:53: DeprecationWarning: jax.core.Shape is deprecated. Use Shape = Sequence[int | Any].\n",
            "  Shape = jax.core.Shape\n",
            "/usr/local/lib/python3.10/dist-packages/chex/_src/pytypes.py:54: DeprecationWarning: jax.random.KeyArray is deprecated. Use jax.Array for annotations, and jax.dtypes.issubdtype(arr.dtype, jax.dtypes.prng_key) for runtime detection of typed prng keys (i.e. keys created with jax.random.key).\n",
            "For more information, see https://jax.readthedocs.io/en/latest/jep/9263-typed-keys.html\n",
            "  PRNGKey = jax.random.KeyArray\n"
          ]
        }
      ]
    },
    {
      "cell_type": "code",
      "source": [
        "# @title Set up the hyperparameters for the run\n",
        "\n",
        "# Modified from dopamine/agents/dqn/config/dqn_cartpole.gin\n",
        "dqn_config = \"\"\"\n",
        "# Hyperparameters for a simple DQN-style Cartpole agent. The hyperparameters\n",
        "# chosen achieve reasonable performance.\n",
        "import dopamine.discrete_domains.gym_lib\n",
        "import dopamine.discrete_domains.run_experiment\n",
        "import dopamine.agents.dqn.dqn_agent\n",
        "import dopamine.replay_memory.circular_replay_buffer\n",
        "import gin.tf.external_configurables\n",
        "\n",
        "DQNAgent.observation_shape = %gym_lib.CARTPOLE_OBSERVATION_SHAPE\n",
        "DQNAgent.observation_dtype = %gym_lib.CARTPOLE_OBSERVATION_DTYPE\n",
        "DQNAgent.stack_size = %gym_lib.CARTPOLE_STACK_SIZE\n",
        "DQNAgent.network = @gym_lib.CartpoleDQNNetwork\n",
        "DQNAgent.gamma = 0.6\n",
        "DQNAgent.update_horizon = 10\n",
        "DQNAgent.min_replay_history = 500\n",
        "DQNAgent.update_period = 8\n",
        "DQNAgent.target_update_period = 10\n",
        "DQNAgent.epsilon_fn = @dqn_agent.identity_epsilon\n",
        "DQNAgent.tf_device = '/gpu:*'  # use '/cpu:*' for non-GPU version\n",
        "DQNAgent.optimizer = @tf.train.AdamOptimizer()\n",
        "DQNAgent.reset_dense1 = False\n",
        "DQNAgent.reset_dense2 = True\n",
        "DQNAgent.reset_last_layer = True\n",
        "DQNAgent.reset_period= 10000000000\n",
        "DQNAgent.reset_max = 3\n",
        "\n",
        "tf.train.AdamOptimizer.learning_rate = 0.001\n",
        "tf.train.AdamOptimizer.epsilon = 0.0003125\n",
        "\n",
        "create_gym_environment.environment_name = 'CartPole'\n",
        "create_gym_environment.version = 'v1'\n",
        "create_agent.agent_name = 'dqn'\n",
        "TrainRunner.create_environment_fn = @gym_lib.create_gym_environment\n",
        "Runner.num_iterations = 120\n",
        "Runner.training_steps = 500\n",
        "Runner.evaluation_steps = 100\n",
        "Runner.max_steps_per_episode = 10000  # Default max episode length.\n",
        "\n",
        "WrappedReplayBuffer.replay_capacity = 50000\n",
        "WrappedReplayBuffer.batch_size = 128\n",
        "\"\"\"\n",
        "gin.parse_config(dqn_config, skip_unknown=False)"
      ],
      "metadata": {
        "colab": {
          "base_uri": "https://localhost:8080/"
        },
        "cellView": "form",
        "id": "vsWIKmpj-9Ie",
        "outputId": "ca6e368c-4160-4390-9cdb-d127d62c1aec"
      },
      "execution_count": null,
      "outputs": [
        {
          "output_type": "execute_result",
          "data": {
            "text/plain": [
              "([],\n",
              " ['dopamine.discrete_domains.gym_lib',\n",
              "  'dopamine.discrete_domains.run_experiment',\n",
              "  'dopamine.agents.dqn.dqn_agent',\n",
              "  'dopamine.replay_memory.circular_replay_buffer',\n",
              "  'gin.tf.external_configurables'])"
            ]
          },
          "metadata": {},
          "execution_count": 3
        }
      ]
    },
    {
      "cell_type": "code",
      "source": [
        "# @title Train DQN on Cartpole\n",
        "n_runs = 10\n",
        "\n",
        "from absl import logging\n",
        "logging.set_verbosity('info')\n",
        "\n",
        "log_files = list()\n",
        "\n",
        "for i in range(n_runs):\n",
        "  LOG_PATH = BASE_PATH + str(i)\n",
        "  log_files.append(LOG_PATH)\n",
        "  dqn_runner = run_experiment.create_runner(LOG_PATH, schedule='continuous_train_and_eval')\n",
        "  print('Will train DQN agent number {}, please be patient, may be a while...'.format(i))\n",
        "  dqn_runner.run_experiment()\n",
        "  print('Done training agent number {}!'.format(i))"
      ],
      "metadata": {
        "cellView": "form",
        "id": "MYv8rpng_MPW"
      },
      "execution_count": null,
      "outputs": []
    },
    {
      "cell_type": "markdown",
      "source": [
        "## Step 3: Load the experiment logs and plot results\n",
        "---"
      ],
      "metadata": {
        "id": "eP2Oyoki_jRV"
      }
    },
    {
      "cell_type": "code",
      "source": [
        "# @title Load experiment logs\n",
        "\n",
        "import collections\n",
        "\n",
        "parameter_set = collections.OrderedDict([\n",
        "    ('agent', ['DQN+reset 2']),\n",
        "    ('game', ['Cartpole'])\n",
        "])\n",
        "\n",
        "data = colab_utils.read_experiment(log_files[0], verbose=True,\n",
        "                                      parameter_set=parameter_set,\n",
        "                              summary_keys=['train_episode_returns'])\n",
        "\n",
        "data['agent'] = 'DQN+reset 2'\n",
        "data['run'] = 1\n",
        "\n",
        "for i in range(1,len(log_files)):\n",
        "  tmp_data = colab_utils.read_experiment(log_files[i], verbose=True,\n",
        "                                      parameter_set=parameter_set,\n",
        "                              summary_keys=['train_episode_returns'])\n",
        "  tmp_data['agent'] = 'DQN+reset 2'\n",
        "  tmp_data['run'] = i+1\n",
        "  data = data.merge(tmp_data, how='outer')"
      ],
      "metadata": {
        "cellView": "form",
        "id": "2LYOJTXh_nj0"
      },
      "execution_count": null,
      "outputs": []
    },
    {
      "cell_type": "code",
      "source": [
        "# @title Plot the results\n",
        "import seaborn as sns\n",
        "import pandas as pd\n",
        "import matplotlib.pyplot as plt\n",
        "\n",
        "\n",
        "fig, ax = plt.subplots(figsize=(16,8))\n",
        "sns.lineplot(x='iteration', y='train_episode_returns', hue='agent',\n",
        "              data=data, ax=ax)\n",
        "plt.yscale('log')\n",
        "plt.grid()\n",
        "plt.title('Cartpole')\n",
        "# plt.savefig(\"demo.png\")\n",
        "plt.show()"
      ],
      "metadata": {
        "cellView": "form",
        "id": "I9D57rp__whI"
      },
      "execution_count": null,
      "outputs": []
    }
  ]
}