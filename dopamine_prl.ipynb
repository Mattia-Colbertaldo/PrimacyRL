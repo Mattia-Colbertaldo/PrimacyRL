{
  "nbformat": 4,
  "nbformat_minor": 0,
  "metadata": {
    "colab": {
      "provenance": [],
      "collapsed_sections": [
        "dULfps-FZ6FH",
        "bcBtIIrSXtmY",
        "T-N1pYK9Zipg"
      ],
      "gpuType": "T4",
      "authorship_tag": "ABX9TyMuQuxZaTCdUH2L3HumZwh3",
      "include_colab_link": true
    },
    "kernelspec": {
      "name": "python3",
      "display_name": "Python 3"
    },
    "language_info": {
      "name": "python"
    },
    "accelerator": "GPU"
  },
  "cells": [
    {
      "cell_type": "markdown",
      "metadata": {
        "id": "view-in-github",
        "colab_type": "text"
      },
      "source": [
        "<a href=\"https://colab.research.google.com/github/Mattia-Colbertaldo/PrimacyRL/blob/main/dopamine_prl.ipynb\" target=\"_parent\"><img src=\"https://colab.research.google.com/assets/colab-badge.svg\" alt=\"Open In Colab\"/></a>"
      ]
    },
    {
      "cell_type": "markdown",
      "source": [
        "# General information on the execution on the Notebook\n",
        "- The notebook is designed to be executed with a GPU activated but will work without\n",
        "- The notebook should ***never*** be run with _run all_, as the exectution time can be extremely high and the notebook might request session restarts!\n"
      ],
      "metadata": {
        "id": "73b9vDYWZXHT"
      }
    },
    {
      "cell_type": "code",
      "execution_count": null,
      "metadata": {
        "colab": {
          "base_uri": "https://localhost:8080/"
        },
        "id": "1cHN2Vw8Gyoj",
        "outputId": "fc1bf0f6-7931-4bfa-c413-d596e3d7a126",
        "cellView": "form"
      },
      "outputs": [
        {
          "output_type": "stream",
          "name": "stdout",
          "text": [
            "Collecting atari-py\n",
            "  Downloading atari-py-0.2.9.tar.gz (540 kB)\n",
            "\u001b[?25l     \u001b[90m━━━━━━━━━━━━━━━━━━━━━━━━━━━━━━━━━━━━━━━━\u001b[0m \u001b[32m0.0/540.6 kB\u001b[0m \u001b[31m?\u001b[0m eta \u001b[36m-:--:--\u001b[0m\r\u001b[2K     \u001b[91m━━━━━━━━━━━━━━━━━━━━━\u001b[0m\u001b[90m╺\u001b[0m\u001b[90m━━━━━━━━━━━━━━━━━━\u001b[0m \u001b[32m286.7/540.6 kB\u001b[0m \u001b[31m8.4 MB/s\u001b[0m eta \u001b[36m0:00:01\u001b[0m\r\u001b[2K     \u001b[90m━━━━━━━━━━━━━━━━━━━━━━━━━━━━━━━━━━━━━━━━\u001b[0m \u001b[32m540.6/540.6 kB\u001b[0m \u001b[31m10.2 MB/s\u001b[0m eta \u001b[36m0:00:00\u001b[0m\n",
            "\u001b[?25h  Preparing metadata (setup.py) ... \u001b[?25l\u001b[?25hdone\n",
            "Requirement already satisfied: numpy in /usr/local/lib/python3.10/dist-packages (from atari-py) (1.23.5)\n",
            "Requirement already satisfied: six in /usr/local/lib/python3.10/dist-packages (from atari-py) (1.16.0)\n",
            "Building wheels for collected packages: atari-py\n",
            "  Building wheel for atari-py (setup.py) ... \u001b[?25l\u001b[?25hdone\n",
            "  Created wheel for atari-py: filename=atari_py-0.2.9-cp310-cp310-linux_x86_64.whl size=2871208 sha256=58bbc42962acbae5291c240660c801d24639d334f0af2fad1ea4d14685eb1e27\n",
            "  Stored in directory: /root/.cache/pip/wheels/75/6f/04/1f3bf5255580101e16ff487564354dddcdd23ec3b43b775b7a\n",
            "Successfully built atari-py\n",
            "Installing collected packages: atari-py\n",
            "Successfully installed atari-py-0.2.9\n",
            "Collecting ale-py\n",
            "  Downloading ale_py-0.8.1-cp310-cp310-manylinux_2_17_x86_64.manylinux2014_x86_64.whl (1.7 MB)\n",
            "\u001b[2K     \u001b[90m━━━━━━━━━━━━━━━━━━━━━━━━━━━━━━━━━━━━━━━━\u001b[0m \u001b[32m1.7/1.7 MB\u001b[0m \u001b[31m10.7 MB/s\u001b[0m eta \u001b[36m0:00:00\u001b[0m\n",
            "\u001b[?25hRequirement already satisfied: numpy in /usr/local/lib/python3.10/dist-packages (from ale-py) (1.23.5)\n",
            "Requirement already satisfied: importlib-resources in /usr/local/lib/python3.10/dist-packages (from ale-py) (6.1.0)\n",
            "Requirement already satisfied: typing-extensions in /usr/local/lib/python3.10/dist-packages (from ale-py) (4.5.0)\n",
            "Installing collected packages: ale-py\n",
            "Successfully installed ale-py-0.8.1\n",
            "Collecting mujoco-py\n",
            "  Downloading mujoco_py-2.1.2.14-py3-none-any.whl (2.4 MB)\n",
            "\u001b[2K     \u001b[90m━━━━━━━━━━━━━━━━━━━━━━━━━━━━━━━━━━━━━━━━\u001b[0m \u001b[32m2.4/2.4 MB\u001b[0m \u001b[31m15.0 MB/s\u001b[0m eta \u001b[36m0:00:00\u001b[0m\n",
            "\u001b[?25hCollecting glfw>=1.4.0 (from mujoco-py)\n",
            "  Downloading glfw-2.6.2-py2.py27.py3.py30.py31.py32.py33.py34.py35.py36.py37.py38-none-manylinux2014_x86_64.whl (208 kB)\n",
            "\u001b[2K     \u001b[90m━━━━━━━━━━━━━━━━━━━━━━━━━━━━━━━━━━━━━━━━\u001b[0m \u001b[32m208.2/208.2 kB\u001b[0m \u001b[31m15.9 MB/s\u001b[0m eta \u001b[36m0:00:00\u001b[0m\n",
            "\u001b[?25hRequirement already satisfied: numpy>=1.11 in /usr/local/lib/python3.10/dist-packages (from mujoco-py) (1.23.5)\n",
            "Requirement already satisfied: Cython>=0.27.2 in /usr/local/lib/python3.10/dist-packages (from mujoco-py) (3.0.4)\n",
            "Requirement already satisfied: imageio>=2.1.2 in /usr/local/lib/python3.10/dist-packages (from mujoco-py) (2.31.6)\n",
            "Requirement already satisfied: cffi>=1.10 in /usr/local/lib/python3.10/dist-packages (from mujoco-py) (1.16.0)\n",
            "Collecting fasteners~=0.15 (from mujoco-py)\n",
            "  Downloading fasteners-0.19-py3-none-any.whl (18 kB)\n",
            "Requirement already satisfied: pycparser in /usr/local/lib/python3.10/dist-packages (from cffi>=1.10->mujoco-py) (2.21)\n",
            "Requirement already satisfied: pillow<10.1.0,>=8.3.2 in /usr/local/lib/python3.10/dist-packages (from imageio>=2.1.2->mujoco-py) (9.4.0)\n",
            "Installing collected packages: glfw, fasteners, mujoco-py\n",
            "Successfully installed fasteners-0.19 glfw-2.6.2 mujoco-py-2.1.2.14\n"
          ]
        }
      ],
      "source": [
        "# @title Installation of packages and games (might be unused)\n",
        "!pip install atari-py\n",
        "!pip install ale-py\n",
        "!pip install mujoco-py"
      ]
    },
    {
      "cell_type": "code",
      "source": [
        "# @title Install Dopamine from source\n",
        "!git clone https://github.com/google/dopamine\n",
        "!pip install -r dopamine/requirements.txt\n",
        "\n",
        "# Install the dopamine package itself (required as there might be previous unseen instalations)\n",
        "%cd dopamine\n",
        "!pip install .\n",
        "%cd .."
      ],
      "metadata": {
        "colab": {
          "base_uri": "https://localhost:8080/"
        },
        "id": "D5uYupHOHM_d",
        "outputId": "0f963e29-1df6-40e4-d0c6-83668e47fee7",
        "cellView": "form"
      },
      "execution_count": null,
      "outputs": [
        {
          "output_type": "stream",
          "name": "stdout",
          "text": [
            "Cloning into 'dopamine'...\n",
            "remote: Enumerating objects: 3989, done.\u001b[K\n",
            "remote: Counting objects: 100% (1467/1467), done.\u001b[K\n",
            "remote: Compressing objects: 100% (317/317), done.\u001b[K\n",
            "remote: Total 3989 (delta 1168), reused 1150 (delta 1150), pack-reused 2522\u001b[K\n",
            "Receiving objects: 100% (3989/3989), 21.12 MiB | 16.79 MiB/s, done.\n",
            "Resolving deltas: 100% (2663/2663), done.\n",
            "Requirement already satisfied: absl-py>=0.9.0 in /usr/local/lib/python3.10/dist-packages (from -r dopamine/requirements.txt (line 1)) (1.4.0)\n",
            "Requirement already satisfied: astunparse>=1.6.3 in /usr/local/lib/python3.10/dist-packages (from -r dopamine/requirements.txt (line 2)) (1.6.3)\n",
            "Requirement already satisfied: cachetools>=4.1.1 in /usr/local/lib/python3.10/dist-packages (from -r dopamine/requirements.txt (line 3)) (5.3.2)\n",
            "Requirement already satisfied: certifi>=2020.6.20 in /usr/local/lib/python3.10/dist-packages (from -r dopamine/requirements.txt (line 4)) (2023.7.22)\n",
            "Requirement already satisfied: chardet>=3.0.4 in /usr/local/lib/python3.10/dist-packages (from -r dopamine/requirements.txt (line 5)) (5.2.0)\n",
            "Requirement already satisfied: cloudpickle>=1.3.0 in /usr/local/lib/python3.10/dist-packages (from -r dopamine/requirements.txt (line 6)) (2.2.1)\n",
            "Requirement already satisfied: cycler>=0.10.0 in /usr/local/lib/python3.10/dist-packages (from -r dopamine/requirements.txt (line 7)) (0.12.1)\n",
            "Requirement already satisfied: flax>=0.5.3 in /usr/local/lib/python3.10/dist-packages (from -r dopamine/requirements.txt (line 8)) (0.7.4)\n",
            "Requirement already satisfied: future>=0.18.2 in /usr/local/lib/python3.10/dist-packages (from -r dopamine/requirements.txt (line 9)) (0.18.3)\n",
            "Requirement already satisfied: gast>=0.3.3 in /usr/local/lib/python3.10/dist-packages (from -r dopamine/requirements.txt (line 10)) (0.5.4)\n",
            "Requirement already satisfied: gin-config>=0.3.0 in /usr/local/lib/python3.10/dist-packages (from -r dopamine/requirements.txt (line 11)) (0.5.0)\n",
            "Requirement already satisfied: google-auth>=1.19.2 in /usr/local/lib/python3.10/dist-packages (from -r dopamine/requirements.txt (line 12)) (2.17.3)\n",
            "Requirement already satisfied: google-auth-oauthlib>=0.4.1 in /usr/local/lib/python3.10/dist-packages (from -r dopamine/requirements.txt (line 13)) (1.0.0)\n",
            "Requirement already satisfied: google-pasta>=0.2.0 in /usr/local/lib/python3.10/dist-packages (from -r dopamine/requirements.txt (line 14)) (0.2.0)\n",
            "Requirement already satisfied: grpcio>=1.30.0 in /usr/local/lib/python3.10/dist-packages (from -r dopamine/requirements.txt (line 15)) (1.59.0)\n",
            "Requirement already satisfied: gym[accept-rom-license,atari]<=0.25.2 in /usr/local/lib/python3.10/dist-packages (from -r dopamine/requirements.txt (line 16)) (0.25.2)\n",
            "Requirement already satisfied: h5py>=2.10.0 in /usr/local/lib/python3.10/dist-packages (from -r dopamine/requirements.txt (line 17)) (3.9.0)\n",
            "Requirement already satisfied: idna>=2.10 in /usr/local/lib/python3.10/dist-packages (from -r dopamine/requirements.txt (line 18)) (3.4)\n",
            "Requirement already satisfied: jax>=0.3.16 in /usr/local/lib/python3.10/dist-packages (from -r dopamine/requirements.txt (line 19)) (0.4.16)\n",
            "Requirement already satisfied: jaxlib>=0.3.15 in /usr/local/lib/python3.10/dist-packages (from -r dopamine/requirements.txt (line 20)) (0.4.16+cuda11.cudnn86)\n",
            "Collecting Keras-Preprocessing>=1.1.2 (from -r dopamine/requirements.txt (line 21))\n",
            "  Downloading Keras_Preprocessing-1.1.2-py2.py3-none-any.whl (42 kB)\n",
            "\u001b[2K     \u001b[90m━━━━━━━━━━━━━━━━━━━━━━━━━━━━━━━━━━━━━━━━\u001b[0m \u001b[32m42.6/42.6 kB\u001b[0m \u001b[31m529.8 kB/s\u001b[0m eta \u001b[36m0:00:00\u001b[0m\n",
            "\u001b[?25hRequirement already satisfied: kiwisolver>=1.2.0 in /usr/local/lib/python3.10/dist-packages (from -r dopamine/requirements.txt (line 22)) (1.4.5)\n",
            "Requirement already satisfied: Markdown>=3.2.2 in /usr/local/lib/python3.10/dist-packages (from -r dopamine/requirements.txt (line 23)) (3.5)\n",
            "Requirement already satisfied: matplotlib>=3.3.0 in /usr/local/lib/python3.10/dist-packages (from -r dopamine/requirements.txt (line 24)) (3.7.1)\n",
            "Requirement already satisfied: msgpack>=1.0.0 in /usr/local/lib/python3.10/dist-packages (from -r dopamine/requirements.txt (line 25)) (1.0.7)\n",
            "Requirement already satisfied: numpy>=1.18.5 in /usr/local/lib/python3.10/dist-packages (from -r dopamine/requirements.txt (line 26)) (1.23.5)\n",
            "Requirement already satisfied: oauthlib>=3.1.0 in /usr/local/lib/python3.10/dist-packages (from -r dopamine/requirements.txt (line 27)) (3.2.2)\n",
            "Requirement already satisfied: opencv-python>=4.3.0.36 in /usr/local/lib/python3.10/dist-packages (from -r dopamine/requirements.txt (line 28)) (4.8.0.76)\n",
            "Requirement already satisfied: opt-einsum>=3.3.0 in /usr/local/lib/python3.10/dist-packages (from -r dopamine/requirements.txt (line 29)) (3.3.0)\n",
            "Requirement already satisfied: pandas>=1.0.5 in /usr/local/lib/python3.10/dist-packages (from -r dopamine/requirements.txt (line 30)) (1.5.3)\n",
            "Requirement already satisfied: Pillow>=7.2.0 in /usr/local/lib/python3.10/dist-packages (from -r dopamine/requirements.txt (line 31)) (9.4.0)\n",
            "Requirement already satisfied: protobuf>=3.12.2 in /usr/local/lib/python3.10/dist-packages (from -r dopamine/requirements.txt (line 32)) (3.20.3)\n",
            "Requirement already satisfied: pyasn1>=0.4.8 in /usr/local/lib/python3.10/dist-packages (from -r dopamine/requirements.txt (line 33)) (0.5.0)\n",
            "Requirement already satisfied: pyasn1-modules>=0.2.8 in /usr/local/lib/python3.10/dist-packages (from -r dopamine/requirements.txt (line 34)) (0.3.0)\n",
            "Requirement already satisfied: pygame>=1.9.6 in /usr/local/lib/python3.10/dist-packages (from -r dopamine/requirements.txt (line 35)) (2.5.2)\n",
            "Collecting pyglet>=1.5.0 (from -r dopamine/requirements.txt (line 36))\n",
            "  Downloading pyglet-2.0.9-py3-none-any.whl (854 kB)\n",
            "\u001b[2K     \u001b[90m━━━━━━━━━━━━━━━━━━━━━━━━━━━━━━━━━━━━━━━━\u001b[0m \u001b[32m854.7/854.7 kB\u001b[0m \u001b[31m14.6 MB/s\u001b[0m eta \u001b[36m0:00:00\u001b[0m\n",
            "\u001b[?25hRequirement already satisfied: pyparsing>=2.4.7 in /usr/local/lib/python3.10/dist-packages (from -r dopamine/requirements.txt (line 37)) (3.1.1)\n",
            "Requirement already satisfied: python-dateutil>=2.8.1 in /usr/local/lib/python3.10/dist-packages (from -r dopamine/requirements.txt (line 38)) (2.8.2)\n",
            "Requirement already satisfied: pytz>=2020.1 in /usr/local/lib/python3.10/dist-packages (from -r dopamine/requirements.txt (line 39)) (2023.3.post1)\n",
            "Requirement already satisfied: requests>=2.24.0 in /usr/local/lib/python3.10/dist-packages (from -r dopamine/requirements.txt (line 40)) (2.31.0)\n",
            "Requirement already satisfied: requests-oauthlib>=1.3.0 in /usr/local/lib/python3.10/dist-packages (from -r dopamine/requirements.txt (line 41)) (1.3.1)\n",
            "Requirement already satisfied: rsa>=4.6 in /usr/local/lib/python3.10/dist-packages (from -r dopamine/requirements.txt (line 42)) (4.9)\n",
            "Requirement already satisfied: scipy>=1.4.1 in /usr/local/lib/python3.10/dist-packages (from -r dopamine/requirements.txt (line 43)) (1.11.3)\n",
            "Requirement already satisfied: six>=1.15.0 in /usr/local/lib/python3.10/dist-packages (from -r dopamine/requirements.txt (line 44)) (1.16.0)\n",
            "Requirement already satisfied: setuptools>=49.2.01 in /usr/local/lib/python3.10/dist-packages (from -r dopamine/requirements.txt (line 45)) (67.7.2)\n",
            "Requirement already satisfied: tensorboard in /usr/local/lib/python3.10/dist-packages (from -r dopamine/requirements.txt (line 46)) (2.14.1)\n",
            "Collecting tensorboard-plugin-wit (from -r dopamine/requirements.txt (line 47))\n",
            "  Downloading tensorboard_plugin_wit-1.8.1-py3-none-any.whl (781 kB)\n",
            "\u001b[2K     \u001b[90m━━━━━━━━━━━━━━━━━━━━━━━━━━━━━━━━━━━━━━━━\u001b[0m \u001b[32m781.3/781.3 kB\u001b[0m \u001b[31m20.3 MB/s\u001b[0m eta \u001b[36m0:00:00\u001b[0m\n",
            "\u001b[?25hRequirement already satisfied: tensorflow in /usr/local/lib/python3.10/dist-packages (from -r dopamine/requirements.txt (line 48)) (2.14.0)\n",
            "Requirement already satisfied: tensorflow-estimator in /usr/local/lib/python3.10/dist-packages (from -r dopamine/requirements.txt (line 49)) (2.14.0)\n",
            "Requirement already satisfied: tensorflow-probability>=0.13.0 in /usr/local/lib/python3.10/dist-packages (from -r dopamine/requirements.txt (line 50)) (0.22.0)\n",
            "Requirement already satisfied: termcolor>=1.1.0 in /usr/local/lib/python3.10/dist-packages (from -r dopamine/requirements.txt (line 51)) (2.3.0)\n",
            "Requirement already satisfied: tf-slim>=1.1.0 in /usr/local/lib/python3.10/dist-packages (from -r dopamine/requirements.txt (line 52)) (1.1.0)\n",
            "Requirement already satisfied: urllib3>=1.25.10 in /usr/local/lib/python3.10/dist-packages (from -r dopamine/requirements.txt (line 53)) (2.0.7)\n",
            "Requirement already satisfied: Werkzeug>=1.0.1 in /usr/local/lib/python3.10/dist-packages (from -r dopamine/requirements.txt (line 54)) (3.0.1)\n",
            "Requirement already satisfied: wrapt>=1.12.1 in /usr/local/lib/python3.10/dist-packages (from -r dopamine/requirements.txt (line 55)) (1.14.1)\n",
            "Requirement already satisfied: wheel<1.0,>=0.23.0 in /usr/local/lib/python3.10/dist-packages (from astunparse>=1.6.3->-r dopamine/requirements.txt (line 2)) (0.41.2)\n",
            "Requirement already satisfied: optax in /usr/local/lib/python3.10/dist-packages (from flax>=0.5.3->-r dopamine/requirements.txt (line 8)) (0.1.7)\n",
            "Requirement already satisfied: orbax-checkpoint in /usr/local/lib/python3.10/dist-packages (from flax>=0.5.3->-r dopamine/requirements.txt (line 8)) (0.4.1)\n",
            "Requirement already satisfied: tensorstore in /usr/local/lib/python3.10/dist-packages (from flax>=0.5.3->-r dopamine/requirements.txt (line 8)) (0.1.45)\n",
            "Requirement already satisfied: rich>=11.1 in /usr/local/lib/python3.10/dist-packages (from flax>=0.5.3->-r dopamine/requirements.txt (line 8)) (13.6.0)\n",
            "Requirement already satisfied: typing-extensions>=4.2 in /usr/local/lib/python3.10/dist-packages (from flax>=0.5.3->-r dopamine/requirements.txt (line 8)) (4.5.0)\n",
            "Requirement already satisfied: PyYAML>=5.4.1 in /usr/local/lib/python3.10/dist-packages (from flax>=0.5.3->-r dopamine/requirements.txt (line 8)) (6.0.1)\n",
            "Requirement already satisfied: gym-notices>=0.0.4 in /usr/local/lib/python3.10/dist-packages (from gym[accept-rom-license,atari]<=0.25.2->-r dopamine/requirements.txt (line 16)) (0.0.8)\n",
            "Collecting autorom[accept-rom-license]~=0.4.2 (from gym[accept-rom-license,atari]<=0.25.2->-r dopamine/requirements.txt (line 16))\n",
            "  Downloading AutoROM-0.4.2-py3-none-any.whl (16 kB)\n",
            "Collecting ale-py~=0.7.5 (from gym[accept-rom-license,atari]<=0.25.2->-r dopamine/requirements.txt (line 16))\n",
            "  Downloading ale_py-0.7.5-cp310-cp310-manylinux_2_17_x86_64.manylinux2014_x86_64.whl (1.6 MB)\n",
            "\u001b[2K     \u001b[90m━━━━━━━━━━━━━━━━━━━━━━━━━━━━━━━━━━━━━━━━\u001b[0m \u001b[32m1.6/1.6 MB\u001b[0m \u001b[31m25.2 MB/s\u001b[0m eta \u001b[36m0:00:00\u001b[0m\n",
            "\u001b[?25hRequirement already satisfied: ml-dtypes>=0.2.0 in /usr/local/lib/python3.10/dist-packages (from jax>=0.3.16->-r dopamine/requirements.txt (line 19)) (0.2.0)\n",
            "Requirement already satisfied: contourpy>=1.0.1 in /usr/local/lib/python3.10/dist-packages (from matplotlib>=3.3.0->-r dopamine/requirements.txt (line 24)) (1.1.1)\n",
            "Requirement already satisfied: fonttools>=4.22.0 in /usr/local/lib/python3.10/dist-packages (from matplotlib>=3.3.0->-r dopamine/requirements.txt (line 24)) (4.43.1)\n",
            "Requirement already satisfied: packaging>=20.0 in /usr/local/lib/python3.10/dist-packages (from matplotlib>=3.3.0->-r dopamine/requirements.txt (line 24)) (23.2)\n",
            "Requirement already satisfied: charset-normalizer<4,>=2 in /usr/local/lib/python3.10/dist-packages (from requests>=2.24.0->-r dopamine/requirements.txt (line 40)) (3.3.1)\n",
            "Requirement already satisfied: tensorboard-data-server<0.8.0,>=0.7.0 in /usr/local/lib/python3.10/dist-packages (from tensorboard->-r dopamine/requirements.txt (line 46)) (0.7.2)\n",
            "Requirement already satisfied: flatbuffers>=23.5.26 in /usr/local/lib/python3.10/dist-packages (from tensorflow->-r dopamine/requirements.txt (line 48)) (23.5.26)\n",
            "Requirement already satisfied: libclang>=13.0.0 in /usr/local/lib/python3.10/dist-packages (from tensorflow->-r dopamine/requirements.txt (line 48)) (16.0.6)\n",
            "Requirement already satisfied: tensorflow-io-gcs-filesystem>=0.23.1 in /usr/local/lib/python3.10/dist-packages (from tensorflow->-r dopamine/requirements.txt (line 48)) (0.34.0)\n",
            "Requirement already satisfied: keras<2.15,>=2.14.0 in /usr/local/lib/python3.10/dist-packages (from tensorflow->-r dopamine/requirements.txt (line 48)) (2.14.0)\n",
            "Requirement already satisfied: decorator in /usr/local/lib/python3.10/dist-packages (from tensorflow-probability>=0.13.0->-r dopamine/requirements.txt (line 50)) (4.4.2)\n",
            "Requirement already satisfied: dm-tree in /usr/local/lib/python3.10/dist-packages (from tensorflow-probability>=0.13.0->-r dopamine/requirements.txt (line 50)) (0.1.8)\n",
            "Requirement already satisfied: MarkupSafe>=2.1.1 in /usr/local/lib/python3.10/dist-packages (from Werkzeug>=1.0.1->-r dopamine/requirements.txt (line 54)) (2.1.3)\n",
            "Requirement already satisfied: importlib-resources in /usr/local/lib/python3.10/dist-packages (from ale-py~=0.7.5->gym[accept-rom-license,atari]<=0.25.2->-r dopamine/requirements.txt (line 16)) (6.1.0)\n",
            "Requirement already satisfied: click in /usr/local/lib/python3.10/dist-packages (from autorom[accept-rom-license]~=0.4.2->gym[accept-rom-license,atari]<=0.25.2->-r dopamine/requirements.txt (line 16)) (8.1.7)\n",
            "Requirement already satisfied: tqdm in /usr/local/lib/python3.10/dist-packages (from autorom[accept-rom-license]~=0.4.2->gym[accept-rom-license,atari]<=0.25.2->-r dopamine/requirements.txt (line 16)) (4.66.1)\n",
            "Collecting AutoROM.accept-rom-license (from autorom[accept-rom-license]~=0.4.2->gym[accept-rom-license,atari]<=0.25.2->-r dopamine/requirements.txt (line 16))\n",
            "  Downloading AutoROM.accept-rom-license-0.6.1.tar.gz (434 kB)\n",
            "\u001b[2K     \u001b[90m━━━━━━━━━━━━━━━━━━━━━━━━━━━━━━━━━━━━━━━━\u001b[0m \u001b[32m434.7/434.7 kB\u001b[0m \u001b[31m40.2 MB/s\u001b[0m eta \u001b[36m0:00:00\u001b[0m\n",
            "\u001b[?25h  Installing build dependencies ... \u001b[?25l\u001b[?25hdone\n",
            "  Getting requirements to build wheel ... \u001b[?25l\u001b[?25hdone\n",
            "  Preparing metadata (pyproject.toml) ... \u001b[?25l\u001b[?25hdone\n",
            "Requirement already satisfied: markdown-it-py>=2.2.0 in /usr/local/lib/python3.10/dist-packages (from rich>=11.1->flax>=0.5.3->-r dopamine/requirements.txt (line 8)) (3.0.0)\n",
            "Requirement already satisfied: pygments<3.0.0,>=2.13.0 in /usr/local/lib/python3.10/dist-packages (from rich>=11.1->flax>=0.5.3->-r dopamine/requirements.txt (line 8)) (2.16.1)\n",
            "Requirement already satisfied: chex>=0.1.5 in /usr/local/lib/python3.10/dist-packages (from optax->flax>=0.5.3->-r dopamine/requirements.txt (line 8)) (0.1.7)\n",
            "Requirement already satisfied: etils[epath,epy] in /usr/local/lib/python3.10/dist-packages (from orbax-checkpoint->flax>=0.5.3->-r dopamine/requirements.txt (line 8)) (1.5.2)\n",
            "Requirement already satisfied: nest_asyncio in /usr/local/lib/python3.10/dist-packages (from orbax-checkpoint->flax>=0.5.3->-r dopamine/requirements.txt (line 8)) (1.5.8)\n",
            "Requirement already satisfied: toolz>=0.9.0 in /usr/local/lib/python3.10/dist-packages (from chex>=0.1.5->optax->flax>=0.5.3->-r dopamine/requirements.txt (line 8)) (0.12.0)\n",
            "Requirement already satisfied: mdurl~=0.1 in /usr/local/lib/python3.10/dist-packages (from markdown-it-py>=2.2.0->rich>=11.1->flax>=0.5.3->-r dopamine/requirements.txt (line 8)) (0.1.2)\n",
            "Requirement already satisfied: fsspec in /usr/local/lib/python3.10/dist-packages (from etils[epath,epy]->orbax-checkpoint->flax>=0.5.3->-r dopamine/requirements.txt (line 8)) (2023.6.0)\n",
            "Requirement already satisfied: zipp in /usr/local/lib/python3.10/dist-packages (from etils[epath,epy]->orbax-checkpoint->flax>=0.5.3->-r dopamine/requirements.txt (line 8)) (3.17.0)\n",
            "Building wheels for collected packages: AutoROM.accept-rom-license\n",
            "  Building wheel for AutoROM.accept-rom-license (pyproject.toml) ... \u001b[?25l\u001b[?25hdone\n",
            "  Created wheel for AutoROM.accept-rom-license: filename=AutoROM.accept_rom_license-0.6.1-py3-none-any.whl size=446660 sha256=67f9f13446a7cbce21aedba7a61bf1daba3ffc24abc3cd1af08852b67ae2b43f\n",
            "  Stored in directory: /root/.cache/pip/wheels/6b/1b/ef/a43ff1a2f1736d5711faa1ba4c1f61be1131b8899e6a057811\n",
            "Successfully built AutoROM.accept-rom-license\n",
            "Installing collected packages: tensorboard-plugin-wit, pyglet, Keras-Preprocessing, ale-py, AutoROM.accept-rom-license, autorom\n",
            "  Attempting uninstall: ale-py\n",
            "    Found existing installation: ale-py 0.8.1\n",
            "    Uninstalling ale-py-0.8.1:\n",
            "      Successfully uninstalled ale-py-0.8.1\n",
            "Successfully installed AutoROM.accept-rom-license-0.6.1 Keras-Preprocessing-1.1.2 ale-py-0.7.5 autorom-0.4.2 pyglet-2.0.9 tensorboard-plugin-wit-1.8.1\n",
            "/content/dopamine\n",
            "Processing /content/dopamine\n",
            "  Preparing metadata (setup.py) ... \u001b[?25l\u001b[?25hdone\n",
            "Requirement already satisfied: tensorflow>=2.2.0 in /usr/local/lib/python3.10/dist-packages (from dopamine-rl==4.0.6) (2.14.0)\n",
            "Requirement already satisfied: gin-config>=0.3.0 in /usr/local/lib/python3.10/dist-packages (from dopamine-rl==4.0.6) (0.5.0)\n",
            "Requirement already satisfied: absl-py>=0.9.0 in /usr/local/lib/python3.10/dist-packages (from dopamine-rl==4.0.6) (1.4.0)\n",
            "Requirement already satisfied: opencv-python>=3.4.8.29 in /usr/local/lib/python3.10/dist-packages (from dopamine-rl==4.0.6) (4.8.0.76)\n",
            "Requirement already satisfied: gym<=0.25.2 in /usr/local/lib/python3.10/dist-packages (from dopamine-rl==4.0.6) (0.25.2)\n",
            "Requirement already satisfied: flax>=0.2.0 in /usr/local/lib/python3.10/dist-packages (from dopamine-rl==4.0.6) (0.7.4)\n",
            "Requirement already satisfied: jax>=0.1.72 in /usr/local/lib/python3.10/dist-packages (from dopamine-rl==4.0.6) (0.4.16)\n",
            "Requirement already satisfied: jaxlib>=0.1.51 in /usr/local/lib/python3.10/dist-packages (from dopamine-rl==4.0.6) (0.4.16+cuda11.cudnn86)\n",
            "Requirement already satisfied: Pillow>=7.0.0 in /usr/local/lib/python3.10/dist-packages (from dopamine-rl==4.0.6) (9.4.0)\n",
            "Requirement already satisfied: numpy>=1.16.4 in /usr/local/lib/python3.10/dist-packages (from dopamine-rl==4.0.6) (1.23.5)\n",
            "Requirement already satisfied: pygame>=1.9.2 in /usr/local/lib/python3.10/dist-packages (from dopamine-rl==4.0.6) (2.5.2)\n",
            "Requirement already satisfied: pandas>=0.24.2 in /usr/local/lib/python3.10/dist-packages (from dopamine-rl==4.0.6) (1.5.3)\n",
            "Requirement already satisfied: tf_slim>=1.0 in /usr/local/lib/python3.10/dist-packages (from dopamine-rl==4.0.6) (1.1.0)\n",
            "Requirement already satisfied: tensorflow-probability>=0.13.0 in /usr/local/lib/python3.10/dist-packages (from dopamine-rl==4.0.6) (0.22.0)\n",
            "Requirement already satisfied: msgpack in /usr/local/lib/python3.10/dist-packages (from flax>=0.2.0->dopamine-rl==4.0.6) (1.0.7)\n",
            "Requirement already satisfied: optax in /usr/local/lib/python3.10/dist-packages (from flax>=0.2.0->dopamine-rl==4.0.6) (0.1.7)\n",
            "Requirement already satisfied: orbax-checkpoint in /usr/local/lib/python3.10/dist-packages (from flax>=0.2.0->dopamine-rl==4.0.6) (0.4.1)\n",
            "Requirement already satisfied: tensorstore in /usr/local/lib/python3.10/dist-packages (from flax>=0.2.0->dopamine-rl==4.0.6) (0.1.45)\n",
            "Requirement already satisfied: rich>=11.1 in /usr/local/lib/python3.10/dist-packages (from flax>=0.2.0->dopamine-rl==4.0.6) (13.6.0)\n",
            "Requirement already satisfied: typing-extensions>=4.2 in /usr/local/lib/python3.10/dist-packages (from flax>=0.2.0->dopamine-rl==4.0.6) (4.5.0)\n",
            "Requirement already satisfied: PyYAML>=5.4.1 in /usr/local/lib/python3.10/dist-packages (from flax>=0.2.0->dopamine-rl==4.0.6) (6.0.1)\n",
            "Requirement already satisfied: cloudpickle>=1.2.0 in /usr/local/lib/python3.10/dist-packages (from gym<=0.25.2->dopamine-rl==4.0.6) (2.2.1)\n",
            "Requirement already satisfied: gym-notices>=0.0.4 in /usr/local/lib/python3.10/dist-packages (from gym<=0.25.2->dopamine-rl==4.0.6) (0.0.8)\n",
            "Requirement already satisfied: ml-dtypes>=0.2.0 in /usr/local/lib/python3.10/dist-packages (from jax>=0.1.72->dopamine-rl==4.0.6) (0.2.0)\n",
            "Requirement already satisfied: opt-einsum in /usr/local/lib/python3.10/dist-packages (from jax>=0.1.72->dopamine-rl==4.0.6) (3.3.0)\n",
            "Requirement already satisfied: scipy>=1.7 in /usr/local/lib/python3.10/dist-packages (from jax>=0.1.72->dopamine-rl==4.0.6) (1.11.3)\n",
            "Requirement already satisfied: python-dateutil>=2.8.1 in /usr/local/lib/python3.10/dist-packages (from pandas>=0.24.2->dopamine-rl==4.0.6) (2.8.2)\n",
            "Requirement already satisfied: pytz>=2020.1 in /usr/local/lib/python3.10/dist-packages (from pandas>=0.24.2->dopamine-rl==4.0.6) (2023.3.post1)\n",
            "Requirement already satisfied: astunparse>=1.6.0 in /usr/local/lib/python3.10/dist-packages (from tensorflow>=2.2.0->dopamine-rl==4.0.6) (1.6.3)\n",
            "Requirement already satisfied: flatbuffers>=23.5.26 in /usr/local/lib/python3.10/dist-packages (from tensorflow>=2.2.0->dopamine-rl==4.0.6) (23.5.26)\n",
            "Requirement already satisfied: gast!=0.5.0,!=0.5.1,!=0.5.2,>=0.2.1 in /usr/local/lib/python3.10/dist-packages (from tensorflow>=2.2.0->dopamine-rl==4.0.6) (0.5.4)\n",
            "Requirement already satisfied: google-pasta>=0.1.1 in /usr/local/lib/python3.10/dist-packages (from tensorflow>=2.2.0->dopamine-rl==4.0.6) (0.2.0)\n",
            "Requirement already satisfied: h5py>=2.9.0 in /usr/local/lib/python3.10/dist-packages (from tensorflow>=2.2.0->dopamine-rl==4.0.6) (3.9.0)\n",
            "Requirement already satisfied: libclang>=13.0.0 in /usr/local/lib/python3.10/dist-packages (from tensorflow>=2.2.0->dopamine-rl==4.0.6) (16.0.6)\n",
            "Requirement already satisfied: packaging in /usr/local/lib/python3.10/dist-packages (from tensorflow>=2.2.0->dopamine-rl==4.0.6) (23.2)\n",
            "Requirement already satisfied: protobuf!=4.21.0,!=4.21.1,!=4.21.2,!=4.21.3,!=4.21.4,!=4.21.5,<5.0.0dev,>=3.20.3 in /usr/local/lib/python3.10/dist-packages (from tensorflow>=2.2.0->dopamine-rl==4.0.6) (3.20.3)\n",
            "Requirement already satisfied: setuptools in /usr/local/lib/python3.10/dist-packages (from tensorflow>=2.2.0->dopamine-rl==4.0.6) (67.7.2)\n",
            "Requirement already satisfied: six>=1.12.0 in /usr/local/lib/python3.10/dist-packages (from tensorflow>=2.2.0->dopamine-rl==4.0.6) (1.16.0)\n",
            "Requirement already satisfied: termcolor>=1.1.0 in /usr/local/lib/python3.10/dist-packages (from tensorflow>=2.2.0->dopamine-rl==4.0.6) (2.3.0)\n",
            "Requirement already satisfied: wrapt<1.15,>=1.11.0 in /usr/local/lib/python3.10/dist-packages (from tensorflow>=2.2.0->dopamine-rl==4.0.6) (1.14.1)\n",
            "Requirement already satisfied: tensorflow-io-gcs-filesystem>=0.23.1 in /usr/local/lib/python3.10/dist-packages (from tensorflow>=2.2.0->dopamine-rl==4.0.6) (0.34.0)\n",
            "Requirement already satisfied: grpcio<2.0,>=1.24.3 in /usr/local/lib/python3.10/dist-packages (from tensorflow>=2.2.0->dopamine-rl==4.0.6) (1.59.0)\n",
            "Requirement already satisfied: tensorboard<2.15,>=2.14 in /usr/local/lib/python3.10/dist-packages (from tensorflow>=2.2.0->dopamine-rl==4.0.6) (2.14.1)\n",
            "Requirement already satisfied: tensorflow-estimator<2.15,>=2.14.0 in /usr/local/lib/python3.10/dist-packages (from tensorflow>=2.2.0->dopamine-rl==4.0.6) (2.14.0)\n",
            "Requirement already satisfied: keras<2.15,>=2.14.0 in /usr/local/lib/python3.10/dist-packages (from tensorflow>=2.2.0->dopamine-rl==4.0.6) (2.14.0)\n",
            "Requirement already satisfied: decorator in /usr/local/lib/python3.10/dist-packages (from tensorflow-probability>=0.13.0->dopamine-rl==4.0.6) (4.4.2)\n",
            "Requirement already satisfied: dm-tree in /usr/local/lib/python3.10/dist-packages (from tensorflow-probability>=0.13.0->dopamine-rl==4.0.6) (0.1.8)\n",
            "Requirement already satisfied: wheel<1.0,>=0.23.0 in /usr/local/lib/python3.10/dist-packages (from astunparse>=1.6.0->tensorflow>=2.2.0->dopamine-rl==4.0.6) (0.41.2)\n",
            "Requirement already satisfied: markdown-it-py>=2.2.0 in /usr/local/lib/python3.10/dist-packages (from rich>=11.1->flax>=0.2.0->dopamine-rl==4.0.6) (3.0.0)\n",
            "Requirement already satisfied: pygments<3.0.0,>=2.13.0 in /usr/local/lib/python3.10/dist-packages (from rich>=11.1->flax>=0.2.0->dopamine-rl==4.0.6) (2.16.1)\n",
            "Requirement already satisfied: google-auth<3,>=1.6.3 in /usr/local/lib/python3.10/dist-packages (from tensorboard<2.15,>=2.14->tensorflow>=2.2.0->dopamine-rl==4.0.6) (2.17.3)\n",
            "Requirement already satisfied: google-auth-oauthlib<1.1,>=0.5 in /usr/local/lib/python3.10/dist-packages (from tensorboard<2.15,>=2.14->tensorflow>=2.2.0->dopamine-rl==4.0.6) (1.0.0)\n",
            "Requirement already satisfied: markdown>=2.6.8 in /usr/local/lib/python3.10/dist-packages (from tensorboard<2.15,>=2.14->tensorflow>=2.2.0->dopamine-rl==4.0.6) (3.5)\n",
            "Requirement already satisfied: requests<3,>=2.21.0 in /usr/local/lib/python3.10/dist-packages (from tensorboard<2.15,>=2.14->tensorflow>=2.2.0->dopamine-rl==4.0.6) (2.31.0)\n",
            "Requirement already satisfied: tensorboard-data-server<0.8.0,>=0.7.0 in /usr/local/lib/python3.10/dist-packages (from tensorboard<2.15,>=2.14->tensorflow>=2.2.0->dopamine-rl==4.0.6) (0.7.2)\n",
            "Requirement already satisfied: werkzeug>=1.0.1 in /usr/local/lib/python3.10/dist-packages (from tensorboard<2.15,>=2.14->tensorflow>=2.2.0->dopamine-rl==4.0.6) (3.0.1)\n",
            "Requirement already satisfied: chex>=0.1.5 in /usr/local/lib/python3.10/dist-packages (from optax->flax>=0.2.0->dopamine-rl==4.0.6) (0.1.7)\n",
            "Requirement already satisfied: etils[epath,epy] in /usr/local/lib/python3.10/dist-packages (from orbax-checkpoint->flax>=0.2.0->dopamine-rl==4.0.6) (1.5.2)\n",
            "Requirement already satisfied: nest_asyncio in /usr/local/lib/python3.10/dist-packages (from orbax-checkpoint->flax>=0.2.0->dopamine-rl==4.0.6) (1.5.8)\n",
            "Requirement already satisfied: toolz>=0.9.0 in /usr/local/lib/python3.10/dist-packages (from chex>=0.1.5->optax->flax>=0.2.0->dopamine-rl==4.0.6) (0.12.0)\n",
            "Requirement already satisfied: cachetools<6.0,>=2.0.0 in /usr/local/lib/python3.10/dist-packages (from google-auth<3,>=1.6.3->tensorboard<2.15,>=2.14->tensorflow>=2.2.0->dopamine-rl==4.0.6) (5.3.2)\n",
            "Requirement already satisfied: pyasn1-modules>=0.2.1 in /usr/local/lib/python3.10/dist-packages (from google-auth<3,>=1.6.3->tensorboard<2.15,>=2.14->tensorflow>=2.2.0->dopamine-rl==4.0.6) (0.3.0)\n",
            "Requirement already satisfied: rsa<5,>=3.1.4 in /usr/local/lib/python3.10/dist-packages (from google-auth<3,>=1.6.3->tensorboard<2.15,>=2.14->tensorflow>=2.2.0->dopamine-rl==4.0.6) (4.9)\n",
            "Requirement already satisfied: requests-oauthlib>=0.7.0 in /usr/local/lib/python3.10/dist-packages (from google-auth-oauthlib<1.1,>=0.5->tensorboard<2.15,>=2.14->tensorflow>=2.2.0->dopamine-rl==4.0.6) (1.3.1)\n",
            "Requirement already satisfied: mdurl~=0.1 in /usr/local/lib/python3.10/dist-packages (from markdown-it-py>=2.2.0->rich>=11.1->flax>=0.2.0->dopamine-rl==4.0.6) (0.1.2)\n",
            "Requirement already satisfied: charset-normalizer<4,>=2 in /usr/local/lib/python3.10/dist-packages (from requests<3,>=2.21.0->tensorboard<2.15,>=2.14->tensorflow>=2.2.0->dopamine-rl==4.0.6) (3.3.1)\n",
            "Requirement already satisfied: idna<4,>=2.5 in /usr/local/lib/python3.10/dist-packages (from requests<3,>=2.21.0->tensorboard<2.15,>=2.14->tensorflow>=2.2.0->dopamine-rl==4.0.6) (3.4)\n",
            "Requirement already satisfied: urllib3<3,>=1.21.1 in /usr/local/lib/python3.10/dist-packages (from requests<3,>=2.21.0->tensorboard<2.15,>=2.14->tensorflow>=2.2.0->dopamine-rl==4.0.6) (2.0.7)\n",
            "Requirement already satisfied: certifi>=2017.4.17 in /usr/local/lib/python3.10/dist-packages (from requests<3,>=2.21.0->tensorboard<2.15,>=2.14->tensorflow>=2.2.0->dopamine-rl==4.0.6) (2023.7.22)\n",
            "Requirement already satisfied: MarkupSafe>=2.1.1 in /usr/local/lib/python3.10/dist-packages (from werkzeug>=1.0.1->tensorboard<2.15,>=2.14->tensorflow>=2.2.0->dopamine-rl==4.0.6) (2.1.3)\n",
            "Requirement already satisfied: fsspec in /usr/local/lib/python3.10/dist-packages (from etils[epath,epy]->orbax-checkpoint->flax>=0.2.0->dopamine-rl==4.0.6) (2023.6.0)\n",
            "Requirement already satisfied: importlib_resources in /usr/local/lib/python3.10/dist-packages (from etils[epath,epy]->orbax-checkpoint->flax>=0.2.0->dopamine-rl==4.0.6) (6.1.0)\n",
            "Requirement already satisfied: zipp in /usr/local/lib/python3.10/dist-packages (from etils[epath,epy]->orbax-checkpoint->flax>=0.2.0->dopamine-rl==4.0.6) (3.17.0)\n",
            "Requirement already satisfied: pyasn1<0.6.0,>=0.4.6 in /usr/local/lib/python3.10/dist-packages (from pyasn1-modules>=0.2.1->google-auth<3,>=1.6.3->tensorboard<2.15,>=2.14->tensorflow>=2.2.0->dopamine-rl==4.0.6) (0.5.0)\n",
            "Requirement already satisfied: oauthlib>=3.0.0 in /usr/local/lib/python3.10/dist-packages (from requests-oauthlib>=0.7.0->google-auth-oauthlib<1.1,>=0.5->tensorboard<2.15,>=2.14->tensorflow>=2.2.0->dopamine-rl==4.0.6) (3.2.2)\n",
            "Building wheels for collected packages: dopamine-rl\n",
            "  Building wheel for dopamine-rl (setup.py) ... \u001b[?25l\u001b[?25hdone\n",
            "  Created wheel for dopamine-rl: filename=dopamine_rl-4.0.6-py3-none-any.whl size=199409 sha256=c6bd17b4450ed8f2dfc4c973bf24e75e9ac96ecff10c1712a38e0c56295f7cfa\n",
            "  Stored in directory: /tmp/pip-ephem-wheel-cache-shbvml4m/wheels/bc/9a/f1/6d293a9c9b57d007048c60f441c3bbbac93f0276ecc5a27d2e\n",
            "Successfully built dopamine-rl\n",
            "Installing collected packages: dopamine-rl\n",
            "  Attempting uninstall: dopamine-rl\n",
            "    Found existing installation: dopamine-rl 4.0.6\n",
            "    Uninstalling dopamine-rl-4.0.6:\n",
            "      Successfully uninstalled dopamine-rl-4.0.6\n",
            "Successfully installed dopamine-rl-4.0.6\n",
            "/content\n"
          ]
        }
      ]
    },
    {
      "cell_type": "code",
      "source": [
        "# @title Import dependencies and set up base path\n",
        "import numpy as np\n",
        "import os\n",
        "#import gin\n",
        "#gin.enter_interactive_mode()\n",
        "from dopamine.discrete_domains import run_experiment\n",
        "from dopamine.colab import utils as colab_utils\n",
        "from absl import flags\n",
        "import gin.tf\n",
        "\n",
        "BASE_PATH = '/tmp/colab_dopamine_run'  # @param"
      ],
      "metadata": {
        "colab": {
          "base_uri": "https://localhost:8080/"
        },
        "id": "XK_WLbeKHQwI",
        "outputId": "40b7a69b-118c-419c-ba68-1aa1874d4bd4",
        "cellView": "form"
      },
      "execution_count": null,
      "outputs": [
        {
          "output_type": "stream",
          "name": "stderr",
          "text": [
            "/usr/local/lib/python3.10/dist-packages/tensorflow/python/framework/dtypes.py:35: DeprecationWarning: ml_dtypes.float8_e4m3b11 is deprecated. Use ml_dtypes.float8_e4m3b11fnuz\n",
            "  from tensorflow.tsl.python.lib.core import pywrap_ml_dtypes\n",
            "/usr/local/lib/python3.10/dist-packages/gin/tf/__init__.py:48: DeprecationWarning: distutils Version classes are deprecated. Use packaging.version instead.\n",
            "  if (distutils.version.LooseVersion(tf.__version__) <\n",
            "/usr/local/lib/python3.10/dist-packages/flax/linen/module.py:77: DeprecationWarning: jax.random.KeyArray is deprecated. Use jax.Array for annotations, and jax.dtypes.issubdtype(arr, jax.dtypes.prng_key) for runtime detection of typed prng keys.\n",
            "  KeyArray = Union[jax.Array, jax.random.KeyArray]  # pylint: disable=invalid-name\n",
            "/usr/local/lib/python3.10/dist-packages/flax/linen/recurrent.py:45: DeprecationWarning: jax.random.KeyArray is deprecated. Use jax.Array for annotations, and jax.dtypes.issubdtype(arr, jax.dtypes.prng_key) for runtime detection of typed prng keys.\n",
            "  PRNGKey = jax.random.KeyArray\n",
            "/usr/local/lib/python3.10/dist-packages/flax/linen/stochastic.py:28: DeprecationWarning: jax.random.KeyArray is deprecated. Use jax.Array for annotations, and jax.dtypes.issubdtype(arr, jax.dtypes.prng_key) for runtime detection of typed prng keys.\n",
            "  KeyArray = Union[jax.Array, jax.random.KeyArray]\n",
            "/usr/local/lib/python3.10/dist-packages/chex/_src/pytypes.py:54: DeprecationWarning: jax.random.KeyArray is deprecated. Use jax.Array for annotations, and jax.dtypes.issubdtype(arr, jax.dtypes.prng_key) for runtime detection of typed prng keys.\n",
            "  PRNGKey = jax.random.KeyArray\n"
          ]
        }
      ]
    },
    {
      "cell_type": "markdown",
      "source": [
        "# Cartpole with two Agents"
      ],
      "metadata": {
        "id": "dULfps-FZ6FH"
      }
    },
    {
      "cell_type": "code",
      "source": [
        "DQN_PATH = os.path.join(BASE_PATH, 'cartpole/dqn')\n",
        "# Modified from dopamine/agents/dqn/config/dqn_cartpole.gin\n",
        "dqn_config = \"\"\"\n",
        "# Hyperparameters for a simple DQN-style Cartpole agent. The hyperparameters\n",
        "# chosen achieve reasonable performance.\n",
        "import dopamine.discrete_domains.gym_lib\n",
        "import dopamine.discrete_domains.run_experiment\n",
        "import dopamine.agents.dqn.dqn_agent\n",
        "import dopamine.replay_memory.circular_replay_buffer\n",
        "import gin.tf.external_configurables\n",
        "\n",
        "DQNAgent.observation_shape = %gym_lib.CARTPOLE_OBSERVATION_SHAPE\n",
        "DQNAgent.observation_dtype = %gym_lib.CARTPOLE_OBSERVATION_DTYPE\n",
        "DQNAgent.stack_size = %gym_lib.CARTPOLE_STACK_SIZE\n",
        "DQNAgent.network = @gym_lib.CartpoleDQNNetwork\n",
        "DQNAgent.gamma = 0.99\n",
        "DQNAgent.update_horizon = 1\n",
        "DQNAgent.min_replay_history = 500\n",
        "DQNAgent.update_period = 4\n",
        "DQNAgent.target_update_period = 100\n",
        "DQNAgent.epsilon_fn = @dqn_agent.identity_epsilon\n",
        "DQNAgent.tf_device = '/gpu:0'  # use '/cpu:*' for non-GPU version\n",
        "DQNAgent.optimizer = @tf.train.AdamOptimizer()\n",
        "\n",
        "tf.train.AdamOptimizer.learning_rate = 0.001\n",
        "tf.train.AdamOptimizer.epsilon = 0.0003125\n",
        "\n",
        "create_gym_environment.environment_name = 'CartPole'\n",
        "create_gym_environment.version = 'v1'\n",
        "create_agent.agent_name = 'dqn'\n",
        "TrainRunner.create_environment_fn = @gym_lib.create_gym_environment\n",
        "Runner.num_iterations = 50\n",
        "Runner.training_steps = 1000\n",
        "Runner.evaluation_steps = 1000\n",
        "Runner.max_steps_per_episode = 1000  # Default max episode length.\n",
        "\n",
        "WrappedReplayBuffer.replay_capacity = 50000\n",
        "WrappedReplayBuffer.batch_size = 128\n",
        "\"\"\"\n",
        "gin.parse_config(dqn_config, skip_unknown=False)"
      ],
      "metadata": {
        "id": "3Pqfb2nnHpJ1",
        "colab": {
          "base_uri": "https://localhost:8080/"
        },
        "outputId": "468911b8-a6ad-4939-92a3-634795d28347"
      },
      "execution_count": null,
      "outputs": [
        {
          "output_type": "execute_result",
          "data": {
            "text/plain": [
              "([],\n",
              " ['dopamine.discrete_domains.gym_lib',\n",
              "  'dopamine.discrete_domains.run_experiment',\n",
              "  'dopamine.agents.dqn.dqn_agent',\n",
              "  'dopamine.replay_memory.circular_replay_buffer',\n",
              "  'gin.tf.external_configurables'])"
            ]
          },
          "metadata": {},
          "execution_count": 4
        }
      ]
    },
    {
      "cell_type": "code",
      "source": [
        "# @title Train DQN on Cartpole\n",
        "dqn_runner = run_experiment.create_runner(DQN_PATH, schedule='continuous_train')\n",
        "print('Will train DQN agent, please be patient, may be a while...')\n",
        "dqn_runner.run_experiment()\n",
        "print('Done training!')"
      ],
      "metadata": {
        "colab": {
          "base_uri": "https://localhost:8080/"
        },
        "id": "aQ6NvnBqLBIA",
        "outputId": "ac190d34-9c04-40e4-ba55-fe2b96e5c777"
      },
      "execution_count": null,
      "outputs": [
        {
          "output_type": "stream",
          "name": "stderr",
          "text": [
            "WARNING:absl:DEPRECATION WARNING: Logger is being deprecated. Please switch to CollectorDispatcher!\n",
            "/usr/local/lib/python3.10/dist-packages/gym/core.py:317: DeprecationWarning: \u001b[33mWARN: Initializing wrapper in old step API which returns one bool instead of two. It is recommended to set `new_step_api=True` to use new step API. This will be the default behaviour in future.\u001b[0m\n",
            "  deprecation(\n",
            "/usr/local/lib/python3.10/dist-packages/gym/wrappers/step_api_compatibility.py:39: DeprecationWarning: \u001b[33mWARN: Initializing environment in old step API which returns one bool instead of two. It is recommended to set `new_step_api=True` to use new step API. This will be the default behaviour in future.\u001b[0m\n",
            "  deprecation(\n",
            "WARNING:tensorflow:From /usr/local/lib/python3.10/dist-packages/tensorflow/python/compat/v2_compat.py:108: disable_resource_variables (from tensorflow.python.ops.variable_scope) is deprecated and will be removed in a future version.\n",
            "Instructions for updating:\n",
            "non-resource variables are not supported in the long term\n"
          ]
        },
        {
          "output_type": "stream",
          "name": "stdout",
          "text": [
            "Will train DQN agent, please be patient, may be a while...\n"
          ]
        },
        {
          "output_type": "stream",
          "name": "stderr",
          "text": [
            "WARNING:tensorflow:From /usr/local/lib/python3.10/dist-packages/tensorflow/python/training/saver.py:1067: remove_checkpoint (from tensorflow.python.checkpoint.checkpoint_management) is deprecated and will be removed in a future version.\n",
            "Instructions for updating:\n",
            "Use standard file APIs to delete files with this prefix.\n"
          ]
        },
        {
          "output_type": "stream",
          "name": "stdout",
          "text": [
            "Done training!\n"
          ]
        }
      ]
    },
    {
      "cell_type": "code",
      "source": [
        "# @title Load the configuration for C51.\n",
        "\n",
        "C51_PATH = os.path.join(BASE_PATH, 'cartpole/c51')\n",
        "# Modified from dopamine/agents/rainbow/config/c51_cartpole.gin\n",
        "c51_config = \"\"\"\n",
        "# Hyperparameters for a simple C51-style Cartpole agent. The hyperparameters\n",
        "# chosen achieve reasonable performance.\n",
        "import dopamine.agents.dqn.dqn_agent\n",
        "import dopamine.agents.rainbow.rainbow_agent\n",
        "import dopamine.discrete_domains.gym_lib\n",
        "import dopamine.discrete_domains.run_experiment\n",
        "import dopamine.replay_memory.prioritized_replay_buffer\n",
        "import gin.tf.external_configurables\n",
        "\n",
        "RainbowAgent.observation_shape = %gym_lib.CARTPOLE_OBSERVATION_SHAPE\n",
        "RainbowAgent.observation_dtype = %gym_lib.CARTPOLE_OBSERVATION_DTYPE\n",
        "RainbowAgent.stack_size = %gym_lib.CARTPOLE_STACK_SIZE\n",
        "RainbowAgent.network = @gym_lib.CartpoleRainbowNetwork\n",
        "RainbowAgent.num_atoms = 51\n",
        "RainbowAgent.vmax = 10.\n",
        "RainbowAgent.gamma = 0.99\n",
        "RainbowAgent.update_horizon = 1\n",
        "RainbowAgent.min_replay_history = 500\n",
        "RainbowAgent.update_period = 4\n",
        "RainbowAgent.target_update_period = 100\n",
        "RainbowAgent.epsilon_fn = @dqn_agent.identity_epsilon\n",
        "RainbowAgent.replay_scheme = 'uniform'\n",
        "RainbowAgent.tf_device = '/gpu:*'  # use '/cpu:*' for non-GPU version\n",
        "RainbowAgent.optimizer = @tf.train.AdamOptimizer()\n",
        "\n",
        "tf.train.AdamOptimizer.learning_rate = 0.001\n",
        "tf.train.AdamOptimizer.epsilon = 0.0003125\n",
        "\n",
        "create_gym_environment.environment_name = 'CartPole'\n",
        "create_gym_environment.version = 'v0'\n",
        "create_agent.agent_name = 'rainbow'\n",
        "TrainRunner.create_environment_fn = @gym_lib.create_gym_environment\n",
        "Runner.num_iterations = 50\n",
        "Runner.training_steps = 1000\n",
        "Runner.evaluation_steps = 1000\n",
        "Runner.max_steps_per_episode = 1000  # Default max episode length.\n",
        "\n",
        "WrappedPrioritizedReplayBuffer.replay_capacity = 50000\n",
        "WrappedPrioritizedReplayBuffer.batch_size = 128\n",
        "\"\"\"\n",
        "gin.parse_config(c51_config, skip_unknown=False)"
      ],
      "metadata": {
        "colab": {
          "base_uri": "https://localhost:8080/"
        },
        "id": "0aYDxPr7QjWN",
        "outputId": "fed74a6a-9a6b-4c27-ecac-1b3fcf4c5540"
      },
      "execution_count": null,
      "outputs": [
        {
          "output_type": "execute_result",
          "data": {
            "text/plain": [
              "([],\n",
              " ['dopamine.agents.dqn.dqn_agent',\n",
              "  'dopamine.agents.rainbow.rainbow_agent',\n",
              "  'dopamine.discrete_domains.gym_lib',\n",
              "  'dopamine.discrete_domains.run_experiment',\n",
              "  'dopamine.replay_memory.prioritized_replay_buffer',\n",
              "  'gin.tf.external_configurables'])"
            ]
          },
          "metadata": {},
          "execution_count": 6
        }
      ]
    },
    {
      "cell_type": "code",
      "source": [
        "# @title Train C51 on Cartpole\n",
        "c51_runner = run_experiment.create_runner(C51_PATH, schedule='continuous_train')\n",
        "print('Will train agent, please be patient, may be a while...')\n",
        "c51_runner.run_experiment()\n",
        "print('Done training!')\n"
      ],
      "metadata": {
        "colab": {
          "base_uri": "https://localhost:8080/"
        },
        "id": "2uYiTjISSI3e",
        "outputId": "5218e679-7a68-4957-f6f7-16cc7012104c"
      },
      "execution_count": null,
      "outputs": [
        {
          "output_type": "stream",
          "name": "stderr",
          "text": [
            "WARNING:absl:DEPRECATION WARNING: Logger is being deprecated. Please switch to CollectorDispatcher!\n",
            "/usr/local/lib/python3.10/dist-packages/gym/envs/registration.py:593: UserWarning: \u001b[33mWARN: The environment CartPole-v0 is out of date. You should consider upgrading to version `v1`.\u001b[0m\n",
            "  logger.warn(\n"
          ]
        },
        {
          "output_type": "stream",
          "name": "stdout",
          "text": [
            "Will train agent, please be patient, may be a while...\n",
            "Done training!\n"
          ]
        }
      ]
    },
    {
      "cell_type": "code",
      "source": [
        "# @title Load the training logs.\n",
        "#data = colab_utils.read_experiment(DQN_PATH, verbose=True,\n",
        "#                                   summary_keys=['train_episode_returns'])\n",
        "#data['agent'] = 'DQN'\n",
        "#data['run'] = 1\n",
        "\n",
        "import collections\n",
        "parameter_set = collections.OrderedDict([\n",
        "    ('agent', ['DQN', 'C51']),\n",
        "    ('game', ['Cartpole'])\n",
        "])\n",
        "\n",
        "data = colab_utils.read_experiment(DQN_PATH, verbose=True,\n",
        "                                      parameter_set=parameter_set,\n",
        "                              summary_keys=['train_episode_returns'])\n",
        "\n",
        "datac51 = colab_utils.read_experiment(C51_PATH, verbose=True,\n",
        "                                      parameter_set=parameter_set,\n",
        "                              summary_keys=['train_episode_returns'])\n",
        "\n",
        "datac51['agent'] = 'C51'\n",
        "datac51['run'] = 1\n",
        "data['agent'] = 'DQN'\n",
        "data['run'] = 1\n",
        "\n",
        "data = data.merge(datac51, how='outer')"
      ],
      "metadata": {
        "colab": {
          "base_uri": "https://localhost:8080/"
        },
        "id": "dctF2JyxM7xs",
        "outputId": "53ff7ed4-56cc-4415-90fa-09ce7053a5eb"
      },
      "execution_count": null,
      "outputs": [
        {
          "output_type": "stream",
          "name": "stdout",
          "text": [
            "Reading statistics from: /tmp/colab_dopamine_run/cartpole/dqn//logs/log_49\n",
            "Reading statistics from: /tmp/colab_dopamine_run/cartpole/dqn//logs/log_49\n",
            "Reading statistics from: /tmp/colab_dopamine_run/cartpole/c51//logs/log_49\n",
            "Reading statistics from: /tmp/colab_dopamine_run/cartpole/c51//logs/log_49\n"
          ]
        }
      ]
    },
    {
      "cell_type": "code",
      "source": [
        "\n",
        "#import seaborn as sns\n",
        "#import matplotlib.pyplot as plt\n",
        "#\n",
        "#fig, ax = plt.subplots(figsize=(16,8))\n",
        "#sns.lineplot(x='iteration', y='train_episode_returns', hue='agent',\n",
        "#             data=data, ax=ax)\n",
        "#plt.title('Cartpole')\n",
        "#plt.show()\n",
        "\n",
        "import seaborn as sns\n",
        "import pandas as pd\n",
        "import matplotlib.pyplot as plt\n",
        "\n",
        "\n",
        "fig, ax = plt.subplots(figsize=(16,8))\n",
        "sns.lineplot(x='iteration', y='train_episode_returns', hue='agent',\n",
        "              data=data, ax=ax)\n",
        "plt.title('Cartpole')\n",
        "plt.show()"
      ],
      "metadata": {
        "colab": {
          "base_uri": "https://localhost:8080/",
          "height": 514
        },
        "id": "5rle0lQINIq8",
        "outputId": "8798736c-af38-46ed-faa6-388152c1f0e3"
      },
      "execution_count": null,
      "outputs": [
        {
          "output_type": "display_data",
          "data": {
            "text/plain": [
              "<Figure size 1600x800 with 1 Axes>"
            ],
            "image/png": "[encoded data removed]"
          },
          "metadata": {}
        }
      ]
    },
    {
      "cell_type": "code",
      "source": [
        "# @title Test with some integrated Libs\n",
        "#from dopamine.utils.line_plotter import LinePlotter"
      ],
      "metadata": {
        "id": "RVYD1wM2NLdB"
      },
      "execution_count": null,
      "outputs": []
    },
    {
      "cell_type": "code",
      "source": [
        "#def getData():\n",
        " # return np.asarray(data['train_episode_returns'])\n",
        "\n",
        "#parameter_set = collections.OrderedDict([\n",
        "#    ('get_line_data_fn', getData),\n",
        " #   ('agent', ['DQN', 'C51']),\n",
        " #   ('game', ['Cartpole'])\n",
        "#])\n",
        "#lp = LinePlotter(parameter_set)\n",
        "#lp.draw()"
      ],
      "metadata": {
        "id": "9QLVG4P0VP8V"
      },
      "execution_count": null,
      "outputs": []
    },
    {
      "cell_type": "markdown",
      "source": [
        "# Acrobot"
      ],
      "metadata": {
        "id": "bcBtIIrSXtmY"
      }
    },
    {
      "cell_type": "code",
      "source": [
        "# @title Load the configuration for DQN.\n",
        "\n",
        "DQN_PATH = os.path.join(BASE_PATH, 'dqn')\n",
        "# Modified from dopamine/agents/dqn/config/dqn_acrobot.gin\n",
        "dqn_config = \"\"\"\n",
        "# Hyperparameters for a simple DQN-style Acrobot agent. The hyperparameters\n",
        "# chosen achieve reasonable performance.\n",
        "import dopamine.agents.dqn.dqn_agent\n",
        "import dopamine.agents.rainbow.rainbow_agent\n",
        "import dopamine.discrete_domains.gym_lib\n",
        "import dopamine.discrete_domains.run_experiment\n",
        "import dopamine.replay_memory.prioritized_replay_buffer\n",
        "import gin.tf.external_configurables\n",
        "\n",
        "RainbowAgent.observation_shape = %gym_lib.ACROBOT_OBSERVATION_SHAPE\n",
        "RainbowAgent.observation_dtype = %gym_lib.ACROBOT_OBSERVATION_DTYPE\n",
        "RainbowAgent.stack_size = %gym_lib.ACROBOT_STACK_SIZE\n",
        "RainbowAgent.network = @gym_lib.AcrobotRainbowNetwork\n",
        "RainbowAgent.num_atoms = 51\n",
        "RainbowAgent.vmax = 10.\n",
        "RainbowAgent.gamma = 0.99\n",
        "RainbowAgent.update_horizon = 1\n",
        "RainbowAgent.min_replay_history = 500\n",
        "RainbowAgent.update_period = 4\n",
        "RainbowAgent.target_update_period = 100\n",
        "RainbowAgent.epsilon_fn = @dqn_agent.identity_epsilon\n",
        "RainbowAgent.replay_scheme = 'uniform'\n",
        "RainbowAgent.tf_device = '/gpu:*'  # use '/cpu:*' for non-GPU version\n",
        "RainbowAgent.optimizer = @tf.train.AdamOptimizer()\n",
        "\n",
        "tf.train.AdamOptimizer.learning_rate = 0.1\n",
        "tf.train.AdamOptimizer.epsilon = 0.0003125\n",
        "\n",
        "create_gym_environment.environment_name = 'Acrobot'\n",
        "create_gym_environment.version = 'v1'\n",
        "create_agent.agent_name = 'rainbow'\n",
        "Runner.create_environment_fn = @gym_lib.create_gym_environment\n",
        "Runner.num_iterations = 50\n",
        "Runner.training_steps = 1000\n",
        "Runner.evaluation_steps = 1000\n",
        "Runner.max_steps_per_episode = 1000\n",
        "\n",
        "WrappedPrioritizedReplayBuffer.replay_capacity = 50000\n",
        "WrappedPrioritizedReplayBuffer.batch_size = 128\n",
        "\"\"\"\n",
        "gin.parse_config(dqn_config, skip_unknown=False)"
      ],
      "metadata": {
        "colab": {
          "base_uri": "https://localhost:8080/"
        },
        "id": "Ge5NSmo2Xw1W",
        "outputId": "68f88ce3-fba4-4571-c4ef-83480dde3049"
      },
      "execution_count": null,
      "outputs": [
        {
          "output_type": "execute_result",
          "data": {
            "text/plain": [
              "([],\n",
              " ['dopamine.agents.dqn.dqn_agent',\n",
              "  'dopamine.agents.rainbow.rainbow_agent',\n",
              "  'dopamine.discrete_domains.gym_lib',\n",
              "  'dopamine.discrete_domains.run_experiment',\n",
              "  'dopamine.replay_memory.prioritized_replay_buffer',\n",
              "  'gin.tf.external_configurables'])"
            ]
          },
          "metadata": {},
          "execution_count": 32
        }
      ]
    },
    {
      "cell_type": "code",
      "source": [
        "dqn_runner = run_experiment.create_runner(DQN_PATH, schedule='continuous_train')\n",
        "print('Will train DQN agent, please be patient, may be a while...')\n",
        "dqn_runner.run_experiment()\n",
        "print('Done training!')"
      ],
      "metadata": {
        "colab": {
          "base_uri": "https://localhost:8080/"
        },
        "id": "LsFIMk1jX_Uq",
        "outputId": "ac330ac6-5629-4f2a-cd59-8c9aa719b6b8"
      },
      "execution_count": null,
      "outputs": [
        {
          "output_type": "stream",
          "name": "stderr",
          "text": [
            "WARNING:absl:DEPRECATION WARNING: Logger is being deprecated. Please switch to CollectorDispatcher!\n",
            "/usr/local/lib/python3.10/dist-packages/gym/core.py:317: DeprecationWarning: \u001b[33mWARN: Initializing wrapper in old step API which returns one bool instead of two. It is recommended to set `new_step_api=True` to use new step API. This will be the default behaviour in future.\u001b[0m\n",
            "  deprecation(\n",
            "/usr/local/lib/python3.10/dist-packages/gym/wrappers/step_api_compatibility.py:39: DeprecationWarning: \u001b[33mWARN: Initializing environment in old step API which returns one bool instead of two. It is recommended to set `new_step_api=True` to use new step API. This will be the default behaviour in future.\u001b[0m\n",
            "  deprecation(\n"
          ]
        },
        {
          "output_type": "stream",
          "name": "stdout",
          "text": [
            "Will train DQN agent, please be patient, may be a while...\n",
            "Done training!\n"
          ]
        }
      ]
    },
    {
      "cell_type": "code",
      "source": [
        "import collections\n",
        "parameter_set = collections.OrderedDict([\n",
        "    ('agent', ['DQN']),\n",
        "    ('game', ['Acrobot'])\n",
        "])\n",
        "\n",
        "data = colab_utils.read_experiment(DQN_PATH, verbose=True,\n",
        "                                      parameter_set=parameter_set,\n",
        "                              summary_keys=['train_episode_returns'])\n",
        "\n",
        "\n",
        "\n",
        "\n",
        "data['agent'] = 'DQN'\n",
        "data['run'] = 1\n"
      ],
      "metadata": {
        "colab": {
          "base_uri": "https://localhost:8080/"
        },
        "id": "IsbNpbmiYDsq",
        "outputId": "4a5b27dd-5fdd-44ea-cf50-6093f2b408cc"
      },
      "execution_count": null,
      "outputs": [
        {
          "output_type": "stream",
          "name": "stdout",
          "text": [
            "Reading statistics from: /tmp/colab_dopamine_run/dqn//logs/log_49\n"
          ]
        }
      ]
    },
    {
      "cell_type": "code",
      "source": [
        "\n",
        "import seaborn as sns\n",
        "import pandas as pd\n",
        "import matplotlib.pyplot as plt\n",
        "\n",
        "\n",
        "fig, ax = plt.subplots(figsize=(16,8))\n",
        "sns.lineplot(x='iteration', y='train_episode_returns', hue='agent',\n",
        "              data=data, ax=ax)\n",
        "plt.title('Acrobot')\n",
        "plt.show()"
      ],
      "metadata": {
        "id": "gdJxZ5-8aKdO"
      },
      "execution_count": null,
      "outputs": []
    },
    {
      "cell_type": "markdown",
      "source": [
        "# Play a different game"
      ],
      "metadata": {
        "id": "T-N1pYK9Zipg"
      }
    },
    {
      "cell_type": "code",
      "source": [
        "from dopamine.agents.dqn import dqn_agent"
      ],
      "metadata": {
        "colab": {
          "base_uri": "https://localhost:8080/"
        },
        "id": "Aq1sudGXaUHN",
        "outputId": "b399e42d-ad6d-445d-8a1d-bc18f864516b"
      },
      "execution_count": null,
      "outputs": [
        {
          "output_type": "stream",
          "name": "stderr",
          "text": [
            "/usr/local/lib/python3.10/dist-packages/ipykernel/ipkernel.py:283: DeprecationWarning: `should_run_async` will not call `transform_cell` automatically in the future. Please pass the result to `transformed_cell` argument and any exception that happen during thetransform in `preprocessing_exc_tuple` in IPython 7.17 and above.\n",
            "  and should_run_async(code)\n"
          ]
        }
      ]
    },
    {
      "cell_type": "code",
      "source": [
        "\n",
        "GAME = 'Asterix'\n",
        "LOG_PATH = os.path.join(BASE_PATH, 'dqn', GAME)\n",
        "\n",
        "def create_dqn_agent(sess, environment, summary_writer=None):\n",
        "  \"\"\"The Runner class will expect a function of this type to create an agent.\"\"\"\n",
        "  return dqn_agent.DQNAgent(sess, num_actions=environment.action_space.n)\n",
        "\n",
        "game_dqn_config = \"\"\"\n",
        "import dopamine.discrete_domains.atari_lib\n",
        "import dopamine.discrete_domains.run_experiment\n",
        "atari_lib.create_atari_environment.game_name = '{}'\n",
        "atari_lib.create_atari_environment.sticky_actions = True\n",
        "run_experiment.Runner.num_iterations = 200\n",
        "run_experiment.Runner.training_steps = 10\n",
        "run_experiment.Runner.max_steps_per_episode = 100\n",
        "\"\"\".format(GAME)"
      ],
      "metadata": {
        "id": "AipllaGLZk0b"
      },
      "execution_count": null,
      "outputs": []
    },
    {
      "cell_type": "code",
      "source": [
        "dqn_runner = run_experiment.TrainRunner(LOG_PATH, create_dqn_agent)"
      ],
      "metadata": {
        "colab": {
          "base_uri": "https://localhost:8080/"
        },
        "id": "aoWghrzjapMp",
        "outputId": "b224ff31-63d7-4ef5-beea-1f7879154326"
      },
      "execution_count": null,
      "outputs": [
        {
          "output_type": "stream",
          "name": "stderr",
          "text": [
            "WARNING:absl:DEPRECATION WARNING: Logger is being deprecated. Please switch to CollectorDispatcher!\n",
            "/usr/local/lib/python3.10/dist-packages/gym/envs/registration.py:593: UserWarning: \u001b[33mWARN: The environment CartPole-v0 is out of date. You should consider upgrading to version `v1`.\u001b[0m\n",
            "  logger.warn(\n",
            "/usr/local/lib/python3.10/dist-packages/gym/core.py:317: DeprecationWarning: \u001b[33mWARN: Initializing wrapper in old step API which returns one bool instead of two. It is recommended to set `new_step_api=True` to use new step API. This will be the default behaviour in future.\u001b[0m\n",
            "  deprecation(\n",
            "/usr/local/lib/python3.10/dist-packages/gym/wrappers/step_api_compatibility.py:39: DeprecationWarning: \u001b[33mWARN: Initializing environment in old step API which returns one bool instead of two. It is recommended to set `new_step_api=True` to use new step API. This will be the default behaviour in future.\u001b[0m\n",
            "  deprecation(\n"
          ]
        }
      ]
    },
    {
      "cell_type": "code",
      "source": [
        "print('Will train agent, please be patient, may be a while...')\n",
        "dqn_runner.run_experiment()\n",
        "print('Done training!')"
      ],
      "metadata": {
        "colab": {
          "base_uri": "https://localhost:8080/"
        },
        "id": "rTzW0UrLa5_R",
        "outputId": "f114ac71-07ea-418a-cf00-9908d6a84612"
      },
      "execution_count": null,
      "outputs": [
        {
          "output_type": "stream",
          "name": "stdout",
          "text": [
            "Will train agent, please be patient, may be a while...\n",
            "Done training!\n"
          ]
        }
      ]
    },
    {
      "cell_type": "code",
      "source": [
        "# @title Load the training logs.\n",
        "dqn_data = colab_utils.read_experiment(\n",
        "    LOG_PATH, verbose=True, summary_keys=['train_episode_returns'])\n",
        "dqn_data['agent'] = 'MyRandomDQN'\n",
        "dqn_data['run_number'] = 1"
      ],
      "metadata": {
        "colab": {
          "base_uri": "https://localhost:8080/"
        },
        "id": "agCC78hDa66P",
        "outputId": "e667f3fd-c5db-475a-a6b6-d2f7346d672d"
      },
      "execution_count": null,
      "outputs": [
        {
          "output_type": "stream",
          "name": "stdout",
          "text": [
            "Reading statistics from: /tmp/colab_dopamine_run/dqn/Asterix//logs/log_49\n"
          ]
        }
      ]
    },
    {
      "cell_type": "code",
      "source": [
        "fig, ax = plt.subplots(figsize=(16,8))\n",
        "sns.lineplot(\n",
        "    x='iteration', y='train_episode_returns', hue='agent',\n",
        "    data=dqn_data, ax=ax)\n",
        "plt.title(GAME)\n",
        "plt.grid()\n",
        "plt.show()"
      ],
      "metadata": {
        "colab": {
          "base_uri": "https://localhost:8080/",
          "height": 510
        },
        "id": "3poRxTbkcTPi",
        "outputId": "ce064c4e-3fbc-4c43-d486-57da9a796a60"
      },
      "execution_count": null,
      "outputs": [
        {
          "output_type": "display_data",
          "data": {
            "text/plain": [
              "<Figure size 1600x800 with 1 Axes>"
            ],
            "image/png": "[encoded data removed]"
          },
          "metadata": {}
        }
      ]
    },
    {
      "cell_type": "code",
      "source": [],
      "metadata": {
        "id": "2IedVuxVcjR2"
      },
      "execution_count": null,
      "outputs": []
    }
  ]
}